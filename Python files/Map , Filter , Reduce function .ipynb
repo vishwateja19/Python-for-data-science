{
 "cells": [
  {
   "cell_type": "markdown",
   "id": "62e3eac7",
   "metadata": {},
   "source": [
    "### Map function "
   ]
  },
  {
   "cell_type": "raw",
   "id": "6f3ca6af",
   "metadata": {},
   "source": [
    "map function is an predefined_function in python where we will be having function and Iterables.\n",
    "what is the use of this functions ?\n",
    "\n",
    "1. no need to traveling from one point to anoter point \n",
    "2 . Map function will take care of those things \n",
    "\n",
    "\n",
    "Syntax for map function:\n",
    "\n",
    "map(function , iterables)"
   ]
  },
  {
   "cell_type": "code",
   "execution_count": 1,
   "id": "eec44597",
   "metadata": {},
   "outputs": [
    {
     "name": "stdout",
     "output_type": "stream",
     "text": [
      "ODD===> 1\n",
      "EVEN====> 2\n",
      "ODD===> 3\n",
      "EVEN====> 4\n",
      "ODD===> 5\n",
      "EVEN====> 6\n",
      "ODD===> 7\n",
      "EVEN====> 8\n",
      "ODD===> 9\n",
      "EVEN====> 10\n"
     ]
    }
   ],
   "source": [
    "### Normal technique \n",
    "\n",
    "for i in range(1,11):\n",
    "    if i % 2 == 0: \n",
    "        print('EVEN====>',i)\n",
    "    else:\n",
    "        print('ODD===>',i)"
   ]
  },
  {
   "cell_type": "code",
   "execution_count": 7,
   "id": "2fe0a6d1",
   "metadata": {},
   "outputs": [],
   "source": [
    "## function \n",
    "\n",
    "def kamal(b):\n",
    "    for i in b:\n",
    "        if i % 2 == 0: \n",
    "            print('EVEN====>',i)\n",
    "        else:\n",
    "            print('ODD===>',i)\n",
    "    "
   ]
  },
  {
   "cell_type": "code",
   "execution_count": 9,
   "id": "2204e025",
   "metadata": {},
   "outputs": [
    {
     "name": "stdout",
     "output_type": "stream",
     "text": [
      "EVEN====> 10\n",
      "ODD===> 21\n",
      "EVEN====> 30\n",
      "EVEN====> 40\n",
      "ODD===> 51\n",
      "EVEN====> 60\n",
      "EVEN====> 70\n",
      "EVEN====> 80\n",
      "ODD===> 91\n",
      "EVEN====> 100\n"
     ]
    }
   ],
   "source": [
    "a = [10,21,30,40,51,60,70,80,91,100]\n",
    "kamal(a)"
   ]
  },
  {
   "cell_type": "markdown",
   "id": "bd1e7206",
   "metadata": {},
   "source": [
    "### Map function "
   ]
  },
  {
   "cell_type": "code",
   "execution_count": 16,
   "id": "5d2e4596",
   "metadata": {},
   "outputs": [],
   "source": [
    "def mapfun(b):\n",
    "        if b % 2 == 0: \n",
    "            print('EVEN====>',b)\n",
    "        else:\n",
    "            print('ODD===>',b)"
   ]
  },
  {
   "cell_type": "code",
   "execution_count": 18,
   "id": "080676a7",
   "metadata": {},
   "outputs": [
    {
     "name": "stdout",
     "output_type": "stream",
     "text": [
      "EVEN====> 10\n",
      "ODD===> 21\n",
      "EVEN====> 30\n",
      "EVEN====> 40\n",
      "ODD===> 51\n",
      "EVEN====> 60\n",
      "EVEN====> 70\n",
      "EVEN====> 80\n",
      "ODD===> 91\n",
      "EVEN====> 100\n"
     ]
    }
   ],
   "source": [
    "# syntax = (function , iterables)\n",
    "\n",
    "a1 = [10,21,30,40,51,60,70,80,91,100]\n",
    "sol = list(map(mapfun,a1))\n"
   ]
  },
  {
   "cell_type": "code",
   "execution_count": 21,
   "id": "722192cd",
   "metadata": {},
   "outputs": [],
   "source": [
    "def square(b):\n",
    "    for i in b:\n",
    "        print(i * i)\n",
    "        \n",
    "        \n",
    "    \n",
    "    \n",
    "    \n",
    "    "
   ]
  },
  {
   "cell_type": "code",
   "execution_count": 22,
   "id": "00a36be0",
   "metadata": {},
   "outputs": [
    {
     "name": "stdout",
     "output_type": "stream",
     "text": [
      "4\n",
      "9\n",
      "16\n",
      "25\n"
     ]
    }
   ],
   "source": [
    "a = [2,3,4,5]\n",
    "square(a)"
   ]
  },
  {
   "cell_type": "code",
   "execution_count": 23,
   "id": "3e196067",
   "metadata": {},
   "outputs": [],
   "source": [
    "def square1(b):\n",
    "    print(b * b)"
   ]
  },
  {
   "cell_type": "code",
   "execution_count": 24,
   "id": "f6dbdc7d",
   "metadata": {},
   "outputs": [
    {
     "name": "stdout",
     "output_type": "stream",
     "text": [
      "4\n",
      "9\n",
      "16\n",
      "25\n"
     ]
    }
   ],
   "source": [
    "a = [2,3,4,5]\n",
    "sol = list(map(square1 ,a))\n"
   ]
  },
  {
   "cell_type": "code",
   "execution_count": 25,
   "id": "c75a100a",
   "metadata": {},
   "outputs": [
    {
     "name": "stdout",
     "output_type": "stream",
     "text": [
      "[20, 21, 22]\n"
     ]
    }
   ],
   "source": [
    "# map and lambda \n",
    "\n",
    "\n",
    "a = [10,11,12]\n",
    "\n",
    "sol = list(map(lambda x : x + 10 , a))\n",
    "\n",
    "print(sol)"
   ]
  },
  {
   "cell_type": "code",
   "execution_count": 26,
   "id": "879e3c32",
   "metadata": {},
   "outputs": [
    {
     "name": "stdout",
     "output_type": "stream",
     "text": [
      "[110, 211, 312]\n"
     ]
    }
   ],
   "source": [
    "\n",
    "a = [10,11,12]\n",
    "b = [100,200,300]\n",
    "\n",
    "sol = list(map(lambda x ,y : x + y, a , b))\n",
    "\n",
    "print(sol)"
   ]
  },
  {
   "cell_type": "code",
   "execution_count": 27,
   "id": "3cbfbc56",
   "metadata": {},
   "outputs": [],
   "source": [
    "def checking(b):\n",
    "    if b>3:\n",
    "        print(b)\n",
    "    "
   ]
  },
  {
   "cell_type": "code",
   "execution_count": 28,
   "id": "155a3230",
   "metadata": {},
   "outputs": [
    {
     "name": "stdout",
     "output_type": "stream",
     "text": [
      "4\n",
      "5\n"
     ]
    }
   ],
   "source": [
    "sol = list(map(checking,[1,2,3,4,5]))"
   ]
  },
  {
   "cell_type": "code",
   "execution_count": 29,
   "id": "e752f3e7",
   "metadata": {},
   "outputs": [
    {
     "data": {
      "text/plain": [
       "[False, False, False, True, True]"
      ]
     },
     "execution_count": 29,
     "metadata": {},
     "output_type": "execute_result"
    }
   ],
   "source": [
    "sol = list(map(lambda x:x>3 , [1,2,3,4,5]))\n",
    "sol"
   ]
  },
  {
   "cell_type": "markdown",
   "id": "83b59d4c",
   "metadata": {},
   "source": [
    "### Filter "
   ]
  },
  {
   "cell_type": "code",
   "execution_count": 30,
   "id": "ea317501",
   "metadata": {},
   "outputs": [
    {
     "name": "stdout",
     "output_type": "stream",
     "text": [
      "4\n",
      "5\n"
     ]
    }
   ],
   "source": [
    "### filter \n",
    "\n",
    "def checking(b):\n",
    "    if b>3:\n",
    "        print(b)\n",
    "    \n",
    "sol = list(filter(checking,[1,2,3,4,5]))"
   ]
  },
  {
   "cell_type": "code",
   "execution_count": 31,
   "id": "605106bc",
   "metadata": {},
   "outputs": [
    {
     "data": {
      "text/plain": [
       "[4, 5]"
      ]
     },
     "execution_count": 31,
     "metadata": {},
     "output_type": "execute_result"
    }
   ],
   "source": [
    "sol = list(filter(lambda x:x>3 , [1,2,3,4,5]))\n",
    "sol"
   ]
  },
  {
   "cell_type": "code",
   "execution_count": 33,
   "id": "e0510ee9",
   "metadata": {},
   "outputs": [
    {
     "data": {
      "text/plain": [
       "[2, 4, 6, 8, 10]"
      ]
     },
     "execution_count": 33,
     "metadata": {},
     "output_type": "execute_result"
    }
   ],
   "source": [
    "# filter syntax (function , iterables)\n",
    "a = list(filter(lambda x: x%2 == 0 , [1,2,3,4,5,6,7,8,9,10]))\n",
    "a"
   ]
  },
  {
   "cell_type": "markdown",
   "id": "8be5050d",
   "metadata": {},
   "source": [
    "### Reduce"
   ]
  },
  {
   "cell_type": "code",
   "execution_count": 34,
   "id": "50eeeb76",
   "metadata": {},
   "outputs": [],
   "source": [
    "from functools import reduce"
   ]
  },
  {
   "cell_type": "code",
   "execution_count": 36,
   "id": "341c4ee5",
   "metadata": {},
   "outputs": [
    {
     "data": {
      "text/plain": [
       "10"
      ]
     },
     "execution_count": 36,
     "metadata": {},
     "output_type": "execute_result"
    }
   ],
   "source": [
    "a = reduce(lambda x , y : x + y , [1,2,3,4])\n",
    "a"
   ]
  },
  {
   "cell_type": "markdown",
   "id": "f185771d",
   "metadata": {},
   "source": [
    "### filter with map function "
   ]
  },
  {
   "cell_type": "code",
   "execution_count": 37,
   "id": "df5073af",
   "metadata": {},
   "outputs": [],
   "source": [
    "a = list(map(lambda x : x + 4 , filter(lambda x : x > 10 , [8,9,10,11,12])))\n"
   ]
  },
  {
   "cell_type": "code",
   "execution_count": 38,
   "id": "cf8dcebe",
   "metadata": {},
   "outputs": [
    {
     "data": {
      "text/plain": [
       "[15, 16]"
      ]
     },
     "execution_count": 38,
     "metadata": {},
     "output_type": "execute_result"
    }
   ],
   "source": [
    "a"
   ]
  },
  {
   "cell_type": "markdown",
   "id": "d508d771",
   "metadata": {},
   "source": [
    "### map with filter "
   ]
  },
  {
   "cell_type": "code",
   "execution_count": 39,
   "id": "9f96bdb1",
   "metadata": {},
   "outputs": [
    {
     "data": {
      "text/plain": [
       "[13, 14]"
      ]
     },
     "execution_count": 39,
     "metadata": {},
     "output_type": "execute_result"
    }
   ],
   "source": [
    "a = list(filter(lambda x : x > 12, map(lambda x : x+2, [8,9,10,11,12])))\n",
    "a"
   ]
  },
  {
   "cell_type": "markdown",
   "id": "1dfe86c5",
   "metadata": {},
   "source": [
    "### map and filter with reduce "
   ]
  },
  {
   "cell_type": "code",
   "execution_count": 40,
   "id": "4ac615ed",
   "metadata": {},
   "outputs": [
    {
     "data": {
      "text/plain": [
       "10"
      ]
     },
     "execution_count": 40,
     "metadata": {},
     "output_type": "execute_result"
    }
   ],
   "source": [
    "a = reduce(lambda x , y : x + y , map(lambda x : x+2   , filter(lambda x : x%2 == 0 , [1,2,3,4])))\n",
    "a"
   ]
  },
  {
   "cell_type": "code",
   "execution_count": null,
   "id": "341678c0",
   "metadata": {},
   "outputs": [],
   "source": []
  }
 ],
 "metadata": {
  "kernelspec": {
   "display_name": "Python 3 (ipykernel)",
   "language": "python",
   "name": "python3"
  },
  "language_info": {
   "codemirror_mode": {
    "name": "ipython",
    "version": 3
   },
   "file_extension": ".py",
   "mimetype": "text/x-python",
   "name": "python",
   "nbconvert_exporter": "python",
   "pygments_lexer": "ipython3",
   "version": "3.8.12"
  }
 },
 "nbformat": 4,
 "nbformat_minor": 5
}
