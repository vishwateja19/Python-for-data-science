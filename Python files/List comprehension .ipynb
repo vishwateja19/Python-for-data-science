{
 "cells": [
  {
   "cell_type": "code",
   "execution_count": 1,
   "id": "2eef2e3f",
   "metadata": {},
   "outputs": [
    {
     "name": "stdout",
     "output_type": "stream",
     "text": [
      "[1, 2, 3, 4]\n"
     ]
    }
   ],
   "source": [
    "a = []\n",
    "\n",
    "for i in range(1,5):\n",
    "    a.append(i)\n",
    "    \n",
    "print(a)"
   ]
  },
  {
   "cell_type": "code",
   "execution_count": 2,
   "id": "cfda2b7e",
   "metadata": {},
   "outputs": [
    {
     "name": "stdout",
     "output_type": "stream",
     "text": [
      "[1, 8, 27, 64]\n"
     ]
    }
   ],
   "source": [
    "a = []\n",
    "\n",
    "for i in range(1,5):\n",
    "    a.append(i ** 3) # ** pow ()\n",
    "    \n",
    "print(a)"
   ]
  },
  {
   "cell_type": "markdown",
   "id": "06610cf7",
   "metadata": {},
   "source": [
    "### same logic but in 1 line and this concept as an list comprehension "
   ]
  },
  {
   "cell_type": "code",
   "execution_count": 3,
   "id": "6e9fac72",
   "metadata": {},
   "outputs": [],
   "source": [
    "a = [i for i in range(1,5)]"
   ]
  },
  {
   "cell_type": "code",
   "execution_count": 4,
   "id": "ebc464dc",
   "metadata": {},
   "outputs": [
    {
     "data": {
      "text/plain": [
       "[1, 2, 3, 4]"
      ]
     },
     "execution_count": 4,
     "metadata": {},
     "output_type": "execute_result"
    }
   ],
   "source": [
    "a"
   ]
  },
  {
   "cell_type": "code",
   "execution_count": 5,
   "id": "7d8a2b2e",
   "metadata": {},
   "outputs": [
    {
     "data": {
      "text/plain": [
       "[1, 8, 27, 64]"
      ]
     },
     "execution_count": 5,
     "metadata": {},
     "output_type": "execute_result"
    }
   ],
   "source": [
    "b = [i**3 for i in range(1,5)] # i = 1\n",
    "b"
   ]
  },
  {
   "cell_type": "code",
   "execution_count": 9,
   "id": "8a7ecdac",
   "metadata": {},
   "outputs": [
    {
     "name": "stdout",
     "output_type": "stream",
     "text": [
      "EVEN-----> 2\n",
      "EVEN-----> 4\n",
      "EVEN-----> 6\n",
      "EVEN-----> 8\n",
      "EVEN-----> 10\n"
     ]
    }
   ],
   "source": [
    "## Normal \n",
    "\n",
    "for i in range(1,11):\n",
    "    if i % 2 == 0:\n",
    "        print(\"EVEN----->\" , i)\n",
    " "
   ]
  },
  {
   "cell_type": "code",
   "execution_count": 8,
   "id": "0a823d8a",
   "metadata": {},
   "outputs": [
    {
     "data": {
      "text/plain": [
       "[2, 4, 6, 8, 10]"
      ]
     },
     "execution_count": 8,
     "metadata": {},
     "output_type": "execute_result"
    }
   ],
   "source": [
    "## for loop and if condition in list comprehension \n",
    "\n",
    "\n",
    "a = [i for i in range(1,11) if i % 2 == 0]  # if condition should be right side of for loop \n",
    "a"
   ]
  },
  {
   "cell_type": "code",
   "execution_count": 7,
   "id": "b95cc312",
   "metadata": {},
   "outputs": [
    {
     "name": "stdout",
     "output_type": "stream",
     "text": [
      "ODD-------> 1\n",
      "EVEN-----> 2\n",
      "ODD-------> 3\n",
      "EVEN-----> 4\n",
      "ODD-------> 5\n",
      "EVEN-----> 6\n",
      "ODD-------> 7\n",
      "EVEN-----> 8\n",
      "ODD-------> 9\n",
      "EVEN-----> 10\n"
     ]
    }
   ],
   "source": [
    "## Normal \n",
    "\n",
    "for i in range(1,11):\n",
    "    if i % 2 == 0:\n",
    "        print(\"EVEN----->\" , i)\n",
    "    else:\n",
    "        print(\"ODD------->\",i)"
   ]
  },
  {
   "cell_type": "code",
   "execution_count": 13,
   "id": "dee2e9b9",
   "metadata": {},
   "outputs": [
    {
     "data": {
      "text/plain": [
       "['ODD', 'EVEN', 'ODD', 'EVEN', 'ODD', 'EVEN', 'ODD', 'EVEN', 'ODD', 'EVEN']"
      ]
     },
     "execution_count": 13,
     "metadata": {},
     "output_type": "execute_result"
    }
   ],
   "source": [
    "# for loop if  and else condition \n",
    "# if we are writing both if and else statements for loop should be on the last position and if and else should be in starting position \n",
    "\n",
    "\n",
    "\n",
    "\n",
    "a = ['EVEN' if i % 2 == 0 else 'ODD' for i in range(1,11)]\n",
    "a"
   ]
  },
  {
   "cell_type": "code",
   "execution_count": 15,
   "id": "7f3b00a0",
   "metadata": {},
   "outputs": [
    {
     "data": {
      "text/plain": [
       "[1, 4, 27, 16, 125, 36, 343, 64, 729, 100]"
      ]
     },
     "execution_count": 15,
     "metadata": {},
     "output_type": "execute_result"
    }
   ],
   "source": [
    "## from 1 to 11 , make even values ** 2 and odd values ** \n",
    "\n",
    "\n",
    "sol = [i**2 if i % 2 == 0 else i**3 for i in range(1,11)]\n",
    "sol"
   ]
  },
  {
   "cell_type": "code",
   "execution_count": null,
   "id": "0c3e9967",
   "metadata": {},
   "outputs": [],
   "source": [
    "2 = 4,4 = 16,6,8,10\n",
    "1 = 3,3 = 27,5 = 125,7,9\n"
   ]
  },
  {
   "cell_type": "code",
   "execution_count": null,
   "id": "9ad9ea52",
   "metadata": {},
   "outputs": [],
   "source": []
  }
 ],
 "metadata": {
  "kernelspec": {
   "display_name": "Python 3 (ipykernel)",
   "language": "python",
   "name": "python3"
  },
  "language_info": {
   "codemirror_mode": {
    "name": "ipython",
    "version": 3
   },
   "file_extension": ".py",
   "mimetype": "text/x-python",
   "name": "python",
   "nbconvert_exporter": "python",
   "pygments_lexer": "ipython3",
   "version": "3.8.12"
  }
 },
 "nbformat": 4,
 "nbformat_minor": 5
}
