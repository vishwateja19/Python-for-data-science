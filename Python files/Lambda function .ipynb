{
 "cells": [
  {
   "cell_type": "code",
   "execution_count": 1,
   "id": "73ffdaea",
   "metadata": {},
   "outputs": [],
   "source": [
    "### Lambda function means = it is an anonymous functions \n",
    "\n",
    "## what is an anonymous function = anonymous function means executing the logic without fuction name or calling the function without function name "
   ]
  },
  {
   "cell_type": "code",
   "execution_count": 2,
   "id": "62da469f",
   "metadata": {},
   "outputs": [
    {
     "name": "stdout",
     "output_type": "stream",
     "text": [
      "12 ---------> EVEN Number\n"
     ]
    }
   ],
   "source": [
    "# Normal code \n",
    "\n",
    "a = 12\n",
    "\n",
    "if a % 2 == 0:\n",
    "    print(a,'---------> EVEN Number')\n",
    "else:\n",
    "    print(a,'----------> Odd Number')"
   ]
  },
  {
   "cell_type": "code",
   "execution_count": 4,
   "id": "29390822",
   "metadata": {},
   "outputs": [
    {
     "name": "stdout",
     "output_type": "stream",
     "text": [
      "15 ----------> Odd Number\n"
     ]
    }
   ],
   "source": [
    "## using functions = if we want to execute the logics inside the funcs we need to call the func \n",
    "\n",
    "def kamal(b):    # now value 15 is going to accept with value b \n",
    "    if b % 2 == 0:\n",
    "        print(b,'---------> EVEN Number')\n",
    "    else:\n",
    "        print(b,'----------> Odd Number')\n",
    "        \n",
    "\n",
    "\n",
    "a = 15\n",
    "kamal(a)\n",
    "\n",
    "    "
   ]
  },
  {
   "cell_type": "code",
   "execution_count": 5,
   "id": "17b3abcb",
   "metadata": {},
   "outputs": [],
   "source": [
    "### Using Anonymous function wich means using lambda function \n",
    "\n",
    "# def <fun  name>(): \n",
    "     #  logics \n",
    "    \n",
    "# the way of writing the concept in code is known as an syntax \n",
    "\n",
    "\n",
    "\n",
    "# syntax ?\n",
    "\n",
    "# a = [1,2,3,4,5,6,7,8,9,10]   -> variable = []\n",
    "\n",
    "# executing the logic without using function name is called ananymous function and in python programming language lambda is the only anonymous function \n",
    "\n",
    "# syntax for lambda function =>    variable  = labmda arguments : expressions "
   ]
  },
  {
   "cell_type": "code",
   "execution_count": 8,
   "id": "2e544740",
   "metadata": {},
   "outputs": [
    {
     "name": "stdout",
     "output_type": "stream",
     "text": [
      "4\n"
     ]
    }
   ],
   "source": [
    "## Adding 2 Numbers using lambda function \n",
    "\n",
    "\n",
    "a = 1\n",
    "b = 3\n",
    "\n",
    "\n",
    "sol = lambda x , y : x + y \n",
    "\n",
    "\n",
    "print(sol(a,b))\n"
   ]
  },
  {
   "cell_type": "code",
   "execution_count": 9,
   "id": "e795f57a",
   "metadata": {},
   "outputs": [
    {
     "name": "stdout",
     "output_type": "stream",
     "text": [
      "40\n"
     ]
    }
   ],
   "source": [
    "a = 10\n",
    "b = 30\n",
    "\n",
    "\n",
    "sol = lambda x , y : a + b\n",
    "\n",
    "\n",
    "print(sol(a,b))\n"
   ]
  },
  {
   "cell_type": "code",
   "execution_count": 10,
   "id": "339efc7f",
   "metadata": {},
   "outputs": [
    {
     "ename": "NameError",
     "evalue": "name 'k' is not defined",
     "output_type": "error",
     "traceback": [
      "\u001b[1;31m---------------------------------------------------------------------------\u001b[0m",
      "\u001b[1;31mNameError\u001b[0m                                 Traceback (most recent call last)",
      "\u001b[1;32m~\\AppData\\Local\\Temp/ipykernel_18840/522899634.py\u001b[0m in \u001b[0;36m<module>\u001b[1;34m\u001b[0m\n\u001b[0;32m      6\u001b[0m \u001b[1;33m\u001b[0m\u001b[0m\n\u001b[0;32m      7\u001b[0m \u001b[1;33m\u001b[0m\u001b[0m\n\u001b[1;32m----> 8\u001b[1;33m \u001b[0mprint\u001b[0m\u001b[1;33m(\u001b[0m\u001b[0msol\u001b[0m\u001b[1;33m(\u001b[0m\u001b[0ma\u001b[0m\u001b[1;33m,\u001b[0m\u001b[0mb\u001b[0m\u001b[1;33m)\u001b[0m\u001b[1;33m)\u001b[0m\u001b[1;33m\u001b[0m\u001b[1;33m\u001b[0m\u001b[0m\n\u001b[0m",
      "\u001b[1;32m~\\AppData\\Local\\Temp/ipykernel_18840/522899634.py\u001b[0m in \u001b[0;36m<lambda>\u001b[1;34m(x, y)\u001b[0m\n\u001b[0;32m      3\u001b[0m \u001b[1;33m\u001b[0m\u001b[0m\n\u001b[0;32m      4\u001b[0m \u001b[1;33m\u001b[0m\u001b[0m\n\u001b[1;32m----> 5\u001b[1;33m \u001b[0msol\u001b[0m \u001b[1;33m=\u001b[0m \u001b[1;32mlambda\u001b[0m \u001b[0mx\u001b[0m \u001b[1;33m,\u001b[0m \u001b[0my\u001b[0m \u001b[1;33m:\u001b[0m \u001b[0mk\u001b[0m \u001b[1;33m+\u001b[0m \u001b[0mi\u001b[0m\u001b[1;33m\u001b[0m\u001b[1;33m\u001b[0m\u001b[0m\n\u001b[0m\u001b[0;32m      6\u001b[0m \u001b[1;33m\u001b[0m\u001b[0m\n\u001b[0;32m      7\u001b[0m \u001b[1;33m\u001b[0m\u001b[0m\n",
      "\u001b[1;31mNameError\u001b[0m: name 'k' is not defined"
     ]
    }
   ],
   "source": [
    "a = 100\n",
    "b = 300\n",
    "\n",
    "\n",
    "sol = lambda x , y : k + i   # we need to give only a + b or x + y \n",
    "\n",
    "\n",
    "print(sol(a,b))\n"
   ]
  },
  {
   "cell_type": "code",
   "execution_count": 19,
   "id": "6d091aa2",
   "metadata": {},
   "outputs": [
    {
     "name": "stdout",
     "output_type": "stream",
     "text": [
      "Enter a number = 100\n",
      "100 * 1  =  100\n",
      "100 * 2  =  200\n",
      "100 * 3  =  300\n",
      "100 * 4  =  400\n",
      "100 * 5  =  500\n",
      "100 * 6  =  600\n",
      "100 * 7  =  700\n",
      "100 * 8  =  800\n",
      "100 * 9  =  900\n",
      "100 * 10  =  1000\n"
     ]
    }
   ],
   "source": [
    "### print 2 table -> 2 * 1 = 2 till 2 * 10 =  20 \n",
    "\n",
    "\n",
    "# n = 77\n",
    "n = int(input(\"Enter a number = \"))\n",
    "\n",
    "for i in range(1,11):\n",
    "    print(n , '*' , i , ' = ' , n * i)"
   ]
  },
  {
   "cell_type": "code",
   "execution_count": 13,
   "id": "88ef9d02",
   "metadata": {},
   "outputs": [
    {
     "name": "stdout",
     "output_type": "stream",
     "text": [
      "*\n"
     ]
    }
   ],
   "source": [
    "print('*')"
   ]
  },
  {
   "cell_type": "code",
   "execution_count": 14,
   "id": "4c997568",
   "metadata": {},
   "outputs": [
    {
     "name": "stdout",
     "output_type": "stream",
     "text": [
      "=\n"
     ]
    }
   ],
   "source": [
    "print('=')"
   ]
  },
  {
   "cell_type": "code",
   "execution_count": 22,
   "id": "52224d12",
   "metadata": {},
   "outputs": [],
   "source": [
    "# print 2 table -> 2 * 1 = 2 till 2 * 10 =  20 using  function \n",
    "\n",
    "def table(n):\n",
    "    for i in range(1,11):\n",
    "        print(n , '*' , i , ' = ' , n * i)\n",
    "    "
   ]
  },
  {
   "cell_type": "code",
   "execution_count": 23,
   "id": "11c4ea7b",
   "metadata": {},
   "outputs": [
    {
     "name": "stdout",
     "output_type": "stream",
     "text": [
      "2 * 1  =  2\n",
      "2 * 2  =  4\n",
      "2 * 3  =  6\n",
      "2 * 4  =  8\n",
      "2 * 5  =  10\n",
      "2 * 6  =  12\n",
      "2 * 7  =  14\n",
      "2 * 8  =  16\n",
      "2 * 9  =  18\n",
      "2 * 10  =  20\n"
     ]
    }
   ],
   "source": [
    "n = 2\n",
    "table(n)"
   ]
  },
  {
   "cell_type": "code",
   "execution_count": 27,
   "id": "3d9a9e9a",
   "metadata": {},
   "outputs": [
    {
     "name": "stdout",
     "output_type": "stream",
     "text": [
      "5 * 1  =  5\n",
      "5 * 2  =  10\n",
      "5 * 3  =  15\n",
      "5 * 4  =  20\n",
      "5 * 5  =  25\n",
      "5 * 6  =  30\n",
      "5 * 7  =  35\n",
      "5 * 8  =  40\n",
      "5 * 9  =  45\n",
      "5 * 10  =  50\n"
     ]
    }
   ],
   "source": [
    "# print 2 table -> 2 * 1 = 2 till 2 * 10 =  20 using lambda function \n",
    "\n",
    "\n",
    "n = 5\n",
    "\n",
    "\n",
    "c = lambda x , y : x * y\n",
    "\n",
    "for i in range(1,11):\n",
    "    print(n , '*' , i , ' = ' , c(n,i))\n"
   ]
  },
  {
   "cell_type": "code",
   "execution_count": 28,
   "id": "c3214920",
   "metadata": {},
   "outputs": [
    {
     "name": "stdout",
     "output_type": "stream",
     "text": [
      "5 * 1  =  5\n",
      "5 * 2  =  10\n",
      "5 * 3  =  15\n",
      "5 * 4  =  20\n",
      "5 * 5  =  25\n",
      "5 * 6  =  30\n",
      "5 * 7  =  35\n",
      "5 * 8  =  40\n",
      "5 * 9  =  45\n",
      "5 * 10  =  50\n"
     ]
    }
   ],
   "source": [
    "# print 2 table -> 2 * 1 = 2 till 2 * 10 =  20 using lambda function \n",
    "\n",
    "\n",
    "n = 5\n",
    "\n",
    "\n",
    "c = lambda x , y : n * i\n",
    "\n",
    "for i in range(1,11):\n",
    "    print(n , '*' , i , ' = ' , c(n,i))\n"
   ]
  },
  {
   "cell_type": "code",
   "execution_count": 29,
   "id": "4786daf7",
   "metadata": {},
   "outputs": [],
   "source": [
    "### some websites \n",
    "\n",
    "\n",
    "\n",
    "# 80 code ctrl + c and ctrl + v \n",
    "\n",
    "\n",
    "#  1 .  Stack overflow \n",
    "\n",
    "#  2 . geeksforgeeks \n",
    "\n",
    "#  3 . Analytics vidhya \n",
    "\n"
   ]
  },
  {
   "cell_type": "code",
   "execution_count": 30,
   "id": "80b73dc9",
   "metadata": {},
   "outputs": [
    {
     "ename": "NameError",
     "evalue": "name 'Name' is not defined",
     "output_type": "error",
     "traceback": [
      "\u001b[1;31m---------------------------------------------------------------------------\u001b[0m",
      "\u001b[1;31mNameError\u001b[0m                                 Traceback (most recent call last)",
      "\u001b[1;32m~\\AppData\\Local\\Temp/ipykernel_18840/4140925458.py\u001b[0m in \u001b[0;36m<module>\u001b[1;34m\u001b[0m\n\u001b[0;32m      1\u001b[0m \u001b[0mname\u001b[0m \u001b[1;33m=\u001b[0m \u001b[1;34m'kamal'\u001b[0m\u001b[1;33m\u001b[0m\u001b[1;33m\u001b[0m\u001b[0m\n\u001b[1;32m----> 2\u001b[1;33m \u001b[0mprint\u001b[0m\u001b[1;33m(\u001b[0m\u001b[0mName\u001b[0m\u001b[1;33m)\u001b[0m\u001b[1;33m\u001b[0m\u001b[1;33m\u001b[0m\u001b[0m\n\u001b[0m",
      "\u001b[1;31mNameError\u001b[0m: name 'Name' is not defined"
     ]
    }
   ],
   "source": [
    "name = 'kamal'\n",
    "print(Name)"
   ]
  },
  {
   "cell_type": "code",
   "execution_count": null,
   "id": "2e44e4f4",
   "metadata": {},
   "outputs": [],
   "source": []
  }
 ],
 "metadata": {
  "kernelspec": {
   "display_name": "Python 3 (ipykernel)",
   "language": "python",
   "name": "python3"
  },
  "language_info": {
   "codemirror_mode": {
    "name": "ipython",
    "version": 3
   },
   "file_extension": ".py",
   "mimetype": "text/x-python",
   "name": "python",
   "nbconvert_exporter": "python",
   "pygments_lexer": "ipython3",
   "version": "3.9.12"
  }
 },
 "nbformat": 4,
 "nbformat_minor": 5
}
