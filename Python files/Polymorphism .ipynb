{
 "cells": [
  {
   "cell_type": "raw",
   "id": "57133786",
   "metadata": {},
   "source": [
    "### Polymorphisam names comes form greek\n",
    "\n",
    "Poly = many \n",
    "morphisam = forms \n",
    "\n",
    "\n",
    "Polymorphisam = many forms \n",
    "\n",
    "\n",
    "In Polymorphisam we are having 2 types :\n",
    "1 . Method Overloading \n",
    "2 . Method Overriding "
   ]
  },
  {
   "cell_type": "markdown",
   "id": "e4f866c8",
   "metadata": {},
   "source": [
    "# Method Overriding "
   ]
  },
  {
   "cell_type": "code",
   "execution_count": 2,
   "id": "5dfd93af",
   "metadata": {},
   "outputs": [
    {
     "name": "stdout",
     "output_type": "stream",
     "text": [
      "I am bad\n"
     ]
    }
   ],
   "source": [
    "def kamal():\n",
    "    print(\"I am good\")\n",
    "def kamal():\n",
    "    print(\"I am bad\")\n",
    "kamal()"
   ]
  },
  {
   "cell_type": "code",
   "execution_count": 6,
   "id": "8fc2795c",
   "metadata": {},
   "outputs": [
    {
     "name": "stdout",
     "output_type": "stream",
     "text": [
      "I am BMW car and i am in black color\n",
      "I am BMW car\n"
     ]
    }
   ],
   "source": [
    "class parent():\n",
    "    def BMW(self):\n",
    "        print(\"I am BMW car\")\n",
    "    def Audi(self):\n",
    "        print(\"I am Audi car\")\n",
    "        \n",
    "class child(parent):\n",
    "     def BMW(self):\n",
    "        print(\"I am BMW car and i am in black color\")\n",
    "     def Audi(self):\n",
    "        print(\"I am Audi car and i am in red color\")\n",
    "        \n",
    "childobj = child()\n",
    "childobj.BMW()\n",
    "\n",
    "\n",
    "parentobj = parent()\n",
    "parentobj.BMW()"
   ]
  },
  {
   "cell_type": "code",
   "execution_count": 7,
   "id": "b861e451",
   "metadata": {},
   "outputs": [
    {
     "name": "stdout",
     "output_type": "stream",
     "text": [
      "But most of the birds can fly but some cannot fly \n"
     ]
    }
   ],
   "source": [
    "class bird():\n",
    "    def intro(self):\n",
    "        print(\"There are many types of birds\")\n",
    "    def flight(self):\n",
    "        print(\"But most of the birds can fly but some cannot fly \")\n",
    "class sparrow(bird):\n",
    "    def flight(self):\n",
    "        print(\"My name is sparrow i can also fly\")\n",
    "class ostrich(bird):\n",
    "    def flight(self):\n",
    "        print(\"my name is ostrich and i cannot fly \")\n",
    "        \n",
    "parentobj = bird()\n",
    "parentobj.flight()"
   ]
  },
  {
   "cell_type": "code",
   "execution_count": 8,
   "id": "9cc9efa4",
   "metadata": {},
   "outputs": [
    {
     "name": "stdout",
     "output_type": "stream",
     "text": [
      "My name is sparrow i can also fly\n"
     ]
    }
   ],
   "source": [
    "sparrowobj = sparrow()\n",
    "sparrowobj.flight()"
   ]
  },
  {
   "cell_type": "code",
   "execution_count": 9,
   "id": "438b8e06",
   "metadata": {},
   "outputs": [
    {
     "name": "stdout",
     "output_type": "stream",
     "text": [
      "my name is ostrich and i cannot fly \n"
     ]
    }
   ],
   "source": [
    "ostrichobj = ostrich()\n",
    "ostrichobj.flight()"
   ]
  },
  {
   "cell_type": "markdown",
   "id": "4777946a",
   "metadata": {},
   "source": [
    "### Method overloading "
   ]
  },
  {
   "cell_type": "raw",
   "id": "04d484e6",
   "metadata": {},
   "source": [
    "Method overloading was direclty not possible in Python programming language like c , c++\n",
    "function can be also called as method "
   ]
  },
  {
   "cell_type": "raw",
   "id": "6f2cea00",
   "metadata": {},
   "source": [
    "def kamal(a):\n",
    "    print(a)\n",
    "    \n",
    "def kamal(a,b):\n",
    "   print(a,b)\n",
    "   \n",
    "   \n",
    "   \n",
    "kamal(a , b)"
   ]
  },
  {
   "cell_type": "code",
   "execution_count": 15,
   "id": "90de8c41",
   "metadata": {},
   "outputs": [
    {
     "data": {
      "text/plain": [
       "6"
      ]
     },
     "execution_count": 15,
     "metadata": {},
     "output_type": "execute_result"
    }
   ],
   "source": [
    "def product(a,b):\n",
    "    return a * b\n",
    "\n",
    "#def product(a,b,c):\n",
    "    #return a*b*c\n",
    "\n",
    "#product(2,3,4)\n",
    "product(2,3)"
   ]
  },
  {
   "cell_type": "markdown",
   "id": "a0aa85ba",
   "metadata": {},
   "source": [
    "### Abstraction "
   ]
  },
  {
   "cell_type": "raw",
   "id": "4ed205c0",
   "metadata": {},
   "source": [
    "Abstraction means we need to call the logics from the child class and if the class is an abstract class only "
   ]
  },
  {
   "cell_type": "code",
   "execution_count": 20,
   "id": "0fc2dacf",
   "metadata": {},
   "outputs": [
    {
     "name": "stdout",
     "output_type": "stream",
     "text": [
      "I am calling abstract class functions \n",
      "I am second class \n"
     ]
    }
   ],
   "source": [
    "from abc import ABC , abstractmethod\n",
    "class kamal(ABC): # parent class should extend to abstract class \n",
    "    def bird(self):\n",
    "        pass\n",
    "    \n",
    "class child(kamal):\n",
    "    def bird(self):\n",
    "        print(\"I am calling abstract class functions \")\n",
    "class size(kamal):\n",
    "    def bird(self):\n",
    "        print(\"I am second class \")\n",
    "childobj = child()\n",
    "childobj.bird()\n",
    "sizeobj = size()\n",
    "sizeobj.bird()\n",
    "kamalobj = kamal()\n",
    "kamalobj.bird()"
   ]
  },
  {
   "cell_type": "markdown",
   "id": "64710521",
   "metadata": {},
   "source": [
    "### Access modifires "
   ]
  },
  {
   "cell_type": "markdown",
   "id": "5160b1e5",
   "metadata": {},
   "source": [
    "- public = the parent class concept can be access from any anywhere either from the internel or external\n",
    "- protected = if we make our parent class has protected only first child class has permisson to change the logics \n",
    "- private = only parent class obj has the permisson to change "
   ]
  },
  {
   "cell_type": "code",
   "execution_count": null,
   "id": "d8bf46c1",
   "metadata": {},
   "outputs": [],
   "source": []
  }
 ],
 "metadata": {
  "kernelspec": {
   "display_name": "Python 3 (ipykernel)",
   "language": "python",
   "name": "python3"
  },
  "language_info": {
   "codemirror_mode": {
    "name": "ipython",
    "version": 3
   },
   "file_extension": ".py",
   "mimetype": "text/x-python",
   "name": "python",
   "nbconvert_exporter": "python",
   "pygments_lexer": "ipython3",
   "version": "3.8.12"
  }
 },
 "nbformat": 4,
 "nbformat_minor": 5
}
