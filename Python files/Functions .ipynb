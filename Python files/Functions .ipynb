{
 "cells": [
  {
   "cell_type": "markdown",
   "id": "891e477c",
   "metadata": {},
   "source": [
    "## Without functions  "
   ]
  },
  {
   "cell_type": "code",
   "execution_count": 22,
   "id": "59fba3c2",
   "metadata": {},
   "outputs": [],
   "source": [
    "### function means = creating the logic only once but we can call the function and execute the logic many times "
   ]
  },
  {
   "cell_type": "code",
   "execution_count": 1,
   "id": "ff5841fb",
   "metadata": {},
   "outputs": [
    {
     "name": "stdout",
     "output_type": "stream",
     "text": [
      "Hello World\n"
     ]
    }
   ],
   "source": [
    "print(\"Hello World\")"
   ]
  },
  {
   "cell_type": "markdown",
   "id": "7646b4c4",
   "metadata": {},
   "source": [
    "### With functions"
   ]
  },
  {
   "cell_type": "code",
   "execution_count": 3,
   "id": "38cc6348",
   "metadata": {},
   "outputs": [],
   "source": [
    "def kamal():\n",
    "    print(\"Hello World\")"
   ]
  },
  {
   "cell_type": "code",
   "execution_count": 4,
   "id": "02a7ef99",
   "metadata": {},
   "outputs": [
    {
     "name": "stdout",
     "output_type": "stream",
     "text": [
      "Hello World\n"
     ]
    }
   ],
   "source": [
    "kamal()"
   ]
  },
  {
   "cell_type": "code",
   "execution_count": 6,
   "id": "1583fc00",
   "metadata": {},
   "outputs": [],
   "source": [
    "def kamal():\n",
    "    print(\"Data science\")\n",
    "    print()\n",
    "    print(\"machine learning\")\n",
    "    print()\n",
    "    print(\"Computer vision\")"
   ]
  },
  {
   "cell_type": "code",
   "execution_count": 7,
   "id": "f046009b",
   "metadata": {},
   "outputs": [
    {
     "name": "stdout",
     "output_type": "stream",
     "text": [
      "Data science\n",
      "\n",
      "machine learning\n",
      "\n",
      "Computer vision\n"
     ]
    }
   ],
   "source": [
    "kamal()"
   ]
  },
  {
   "cell_type": "markdown",
   "id": "6794abf2",
   "metadata": {},
   "source": [
    "## Without functions "
   ]
  },
  {
   "cell_type": "code",
   "execution_count": 11,
   "id": "2838b294",
   "metadata": {},
   "outputs": [
    {
     "name": "stdout",
     "output_type": "stream",
     "text": [
      "ODD\n"
     ]
    }
   ],
   "source": [
    "a = 13\n",
    "if a % 2 == 0:\n",
    "    print(\"EVEN\")\n",
    "else:\n",
    "    print(\"ODD\")"
   ]
  },
  {
   "cell_type": "code",
   "execution_count": 10,
   "id": "9696948f",
   "metadata": {},
   "outputs": [
    {
     "name": "stdout",
     "output_type": "stream",
     "text": [
      "ODD\n"
     ]
    }
   ],
   "source": [
    "a = 15\n",
    "if a % 2 == 0:\n",
    "    print(\"EVEN\")\n",
    "else:\n",
    "    print(\"ODD\")"
   ]
  },
  {
   "cell_type": "code",
   "execution_count": 12,
   "id": "be320d7e",
   "metadata": {},
   "outputs": [
    {
     "name": "stdout",
     "output_type": "stream",
     "text": [
      "EVEN\n"
     ]
    }
   ],
   "source": [
    "a = 22\n",
    "if a % 2 == 0:\n",
    "    print(\"EVEN\")\n",
    "else:\n",
    "    print(\"ODD\")"
   ]
  },
  {
   "cell_type": "markdown",
   "id": "575ecb1e",
   "metadata": {},
   "source": [
    "### With Function "
   ]
  },
  {
   "cell_type": "code",
   "execution_count": 17,
   "id": "a9941f8f",
   "metadata": {},
   "outputs": [],
   "source": [
    "def dhoni(f):  # i have to accept value 27 \n",
    "    if f % 2 == 0:\n",
    "        print(\"EVEN\")\n",
    "    else:\n",
    "        print(\"ODD\")\n",
    "    "
   ]
  },
  {
   "cell_type": "code",
   "execution_count": 18,
   "id": "64fd901b",
   "metadata": {},
   "outputs": [
    {
     "name": "stdout",
     "output_type": "stream",
     "text": [
      "ODD\n"
     ]
    }
   ],
   "source": [
    "dhoni(27)  # calling and passing number 27 "
   ]
  },
  {
   "cell_type": "code",
   "execution_count": 19,
   "id": "8e6bd64c",
   "metadata": {},
   "outputs": [
    {
     "name": "stdout",
     "output_type": "stream",
     "text": [
      "ODD\n"
     ]
    }
   ],
   "source": [
    "dhoni(51)"
   ]
  },
  {
   "cell_type": "code",
   "execution_count": 20,
   "id": "e104b87b",
   "metadata": {},
   "outputs": [
    {
     "name": "stdout",
     "output_type": "stream",
     "text": [
      "EVEN\n"
     ]
    }
   ],
   "source": [
    "dhoni(10)"
   ]
  },
  {
   "cell_type": "code",
   "execution_count": 21,
   "id": "21c369a1",
   "metadata": {},
   "outputs": [
    {
     "name": "stdout",
     "output_type": "stream",
     "text": [
      "EVEN\n"
     ]
    }
   ],
   "source": [
    "dhoni(110)"
   ]
  },
  {
   "cell_type": "markdown",
   "id": "1deeed72",
   "metadata": {},
   "source": [
    "## return concept in functions "
   ]
  },
  {
   "cell_type": "code",
   "execution_count": 23,
   "id": "46b70265",
   "metadata": {},
   "outputs": [],
   "source": [
    "## I want to take 10 numbers from the user and i want to save those numbers in a list and i want to find the even and odd values i a list "
   ]
  },
  {
   "cell_type": "code",
   "execution_count": 24,
   "id": "b40db965",
   "metadata": {},
   "outputs": [
    {
     "name": "stdout",
     "output_type": "stream",
     "text": [
      "enter a value 15\n"
     ]
    }
   ],
   "source": [
    "a = int(input(\"enter a value \"))\n"
   ]
  },
  {
   "cell_type": "code",
   "execution_count": null,
   "id": "db7e5b94",
   "metadata": {},
   "outputs": [],
   "source": [
    "c = []\n",
    "for i in range(10):\n",
    "    a = int(input())\n",
    "    c.append(a)\n",
    "    \n",
    "print(c)"
   ]
  },
  {
   "cell_type": "code",
   "execution_count": 26,
   "id": "e08cc86b",
   "metadata": {},
   "outputs": [
    {
     "data": {
      "text/plain": [
       "[12, 15, 17, 22, 35, 76, 98, 11, 121, 134]"
      ]
     },
     "execution_count": 26,
     "metadata": {},
     "output_type": "execute_result"
    }
   ],
   "source": [
    "c"
   ]
  },
  {
   "cell_type": "code",
   "execution_count": 27,
   "id": "ed976c3f",
   "metadata": {},
   "outputs": [
    {
     "name": "stdout",
     "output_type": "stream",
     "text": [
      "12 ---> EVEN \n",
      "15 --->odd\n",
      "17 --->odd\n",
      "22 ---> EVEN \n",
      "35 --->odd\n",
      "76 ---> EVEN \n",
      "98 ---> EVEN \n",
      "11 --->odd\n",
      "121 --->odd\n",
      "134 ---> EVEN \n"
     ]
    }
   ],
   "source": [
    "for i in c:\n",
    "    if i % 2 == 0:\n",
    "        print(i , '---> EVEN ')\n",
    "    else:\n",
    "        print(i , '--->odd')"
   ]
  },
  {
   "cell_type": "code",
   "execution_count": 28,
   "id": "71ecb959",
   "metadata": {
    "scrolled": true
   },
   "outputs": [
    {
     "name": "stdout",
     "output_type": "stream",
     "text": [
      "7\n",
      "1\n",
      "34\n",
      "23\n",
      "67\n",
      "88\n",
      "99\n",
      "10\n",
      "13\n",
      "14\n",
      "[7, 1, 34, 23, 67, 88, 99, 10, 13, 14]\n",
      "\n",
      "7 --->odd\n",
      "1 --->odd\n",
      "34 ---> EVEN \n",
      "23 --->odd\n",
      "67 --->odd\n",
      "88 ---> EVEN \n",
      "99 --->odd\n",
      "10 ---> EVEN \n",
      "13 --->odd\n",
      "14 ---> EVEN \n"
     ]
    }
   ],
   "source": [
    "c = []\n",
    "for i in range(10):\n",
    "    a = int(input())\n",
    "    c.append(a)\n",
    "    \n",
    "print(c)\n",
    "print()\n",
    "\n",
    "for i in c:\n",
    "    if i % 2 == 0:\n",
    "        print(i , '---> EVEN ')\n",
    "    else:\n",
    "        print(i , '--->odd')"
   ]
  },
  {
   "cell_type": "markdown",
   "id": "2712c558",
   "metadata": {},
   "source": [
    "### take 2 numbers and find sum and product "
   ]
  },
  {
   "cell_type": "code",
   "execution_count": 29,
   "id": "446c00e0",
   "metadata": {},
   "outputs": [
    {
     "name": "stdout",
     "output_type": "stream",
     "text": [
      "sum  8\n",
      "\n",
      "MUL =  15\n"
     ]
    }
   ],
   "source": [
    "## without functions \n",
    "\n",
    "\n",
    "a = 3 \n",
    "b = 5\n",
    "\n",
    "print(\"sum \",a + b)\n",
    "\n",
    "print()\n",
    "\n",
    "print(\"MUL = \", a * b)"
   ]
  },
  {
   "cell_type": "code",
   "execution_count": 30,
   "id": "fbf0deed",
   "metadata": {},
   "outputs": [
    {
     "name": "stdout",
     "output_type": "stream",
     "text": [
      "sum  11\n",
      "\n",
      "MUL =  28\n"
     ]
    }
   ],
   "source": [
    "## without functions \n",
    "\n",
    "\n",
    "a = 4\n",
    "b = 7\n",
    "\n",
    "print(\"sum \",a + b)\n",
    "\n",
    "print()\n",
    "\n",
    "print(\"MUL = \", a * b)"
   ]
  },
  {
   "cell_type": "code",
   "execution_count": 32,
   "id": "96118ae1",
   "metadata": {},
   "outputs": [],
   "source": [
    "## with functions \n",
    "\n",
    "def kohli(a,b):\n",
    "    print(\"sum \",a + b)\n",
    "    print()\n",
    "    print(\"MUL = \", a * b)\n",
    "    "
   ]
  },
  {
   "cell_type": "code",
   "execution_count": 33,
   "id": "060d5cca",
   "metadata": {},
   "outputs": [
    {
     "name": "stdout",
     "output_type": "stream",
     "text": [
      "sum  8\n",
      "\n",
      "MUL =  15\n"
     ]
    }
   ],
   "source": [
    "kohli(3,5)"
   ]
  },
  {
   "cell_type": "code",
   "execution_count": 34,
   "id": "3369fbcd",
   "metadata": {},
   "outputs": [],
   "source": [
    "### with function and return keyword \n",
    "\n",
    "def rohitsharma(a,b):  # a = 3 , b = 5\n",
    "    kamal = a+b  #8\n",
    "    vimal = a * b # 15\n",
    "    \n",
    "    return kamal , vimal \n",
    "    \n",
    "    "
   ]
  },
  {
   "cell_type": "code",
   "execution_count": 35,
   "id": "0ae615e7",
   "metadata": {},
   "outputs": [
    {
     "data": {
      "text/plain": [
       "(8, 15)"
      ]
     },
     "execution_count": 35,
     "metadata": {},
     "output_type": "execute_result"
    }
   ],
   "source": [
    "rohitsharma(3,5)"
   ]
  },
  {
   "cell_type": "code",
   "execution_count": 36,
   "id": "b7c1e13b",
   "metadata": {},
   "outputs": [
    {
     "name": "stdout",
     "output_type": "stream",
     "text": [
      "sum -> 30\n",
      "MUL--> 200\n"
     ]
    }
   ],
   "source": [
    "R , T = rohitsharma(10,20)\n",
    "\n",
    "print(\"sum ->\" , R)\n",
    "print(\"MUL-->\",T)"
   ]
  },
  {
   "cell_type": "code",
   "execution_count": 37,
   "id": "1dfe1eec",
   "metadata": {},
   "outputs": [],
   "source": [
    "def details(name , age , des):\n",
    "    print(name)\n",
    "    print()\n",
    "    print(age)\n",
    "    print()\n",
    "    print(des)\n",
    "    "
   ]
  },
  {
   "cell_type": "code",
   "execution_count": 38,
   "id": "ead26794",
   "metadata": {},
   "outputs": [
    {
     "name": "stdout",
     "output_type": "stream",
     "text": [
      "kamal\n",
      "\n",
      "25\n",
      "\n",
      "CV\n"
     ]
    }
   ],
   "source": [
    "details(name = 'kamal' , age = 25 , des = 'CV')"
   ]
  },
  {
   "cell_type": "code",
   "execution_count": 44,
   "id": "d0dbd386",
   "metadata": {},
   "outputs": [],
   "source": [
    "def kamal(b):\n",
    "    for i in e:\n",
    "        print(i)"
   ]
  },
  {
   "cell_type": "code",
   "execution_count": 45,
   "id": "8c1638b5",
   "metadata": {},
   "outputs": [
    {
     "name": "stdout",
     "output_type": "stream",
     "text": [
      "10\n",
      "20\n",
      "30\n",
      "40\n",
      "50\n"
     ]
    }
   ],
   "source": [
    "e = [10,20,30,40,50]\n",
    "\n",
    "kamal(e)"
   ]
  },
  {
   "cell_type": "code",
   "execution_count": 46,
   "id": "81dba3c2",
   "metadata": {},
   "outputs": [],
   "source": [
    "def hero(y):  # it matter which variable is accepting \n",
    "    for i in y:\n",
    "        print(i)"
   ]
  },
  {
   "cell_type": "code",
   "execution_count": 47,
   "id": "df817011",
   "metadata": {},
   "outputs": [
    {
     "name": "stdout",
     "output_type": "stream",
     "text": [
      "10\n",
      "20\n",
      "30\n",
      "40\n",
      "50\n"
     ]
    }
   ],
   "source": [
    "t = [10,20,30,40,50]\n",
    "hero(t)"
   ]
  },
  {
   "cell_type": "code",
   "execution_count": null,
   "id": "f7def03b",
   "metadata": {},
   "outputs": [],
   "source": []
  }
 ],
 "metadata": {
  "kernelspec": {
   "display_name": "Python 3 (ipykernel)",
   "language": "python",
   "name": "python3"
  },
  "language_info": {
   "codemirror_mode": {
    "name": "ipython",
    "version": 3
   },
   "file_extension": ".py",
   "mimetype": "text/x-python",
   "name": "python",
   "nbconvert_exporter": "python",
   "pygments_lexer": "ipython3",
   "version": "3.9.12"
  }
 },
 "nbformat": 4,
 "nbformat_minor": 5
}
