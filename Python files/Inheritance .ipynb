{
 "cells": [
  {
   "cell_type": "raw",
   "id": "9f08c88e",
   "metadata": {},
   "source": [
    "Inheritance is the concept where we use to take the data or logics from the some other classes or some other projects "
   ]
  },
  {
   "cell_type": "raw",
   "id": "a3350720",
   "metadata": {},
   "source": [
    "simple Inheritance [means we will be having only one parent class and one child class "
   ]
  },
  {
   "cell_type": "markdown",
   "id": "c7fb2a31",
   "metadata": {},
   "source": [
    "### Simple inheritance "
   ]
  },
  {
   "cell_type": "code",
   "execution_count": 1,
   "id": "eb5400be",
   "metadata": {},
   "outputs": [
    {
     "name": "stdout",
     "output_type": "stream",
     "text": [
      "I am a parent class and i have benz car\n",
      "I am child class and i am a student\n"
     ]
    }
   ],
   "source": [
    "class parent():\n",
    "    def car1(self):\n",
    "        print(\"I am a parent class and i have benz car\")\n",
    "        \n",
    "class child():\n",
    "    def student(self):\n",
    "        print(\"I am child class and i am a student\")\n",
    "        \n",
    "parentobj = parent()\n",
    "childobj = child()\n",
    "\n",
    "\n",
    "parentobj.car1()\n",
    "childobj.student()"
   ]
  },
  {
   "cell_type": "code",
   "execution_count": 2,
   "id": "1442a56d",
   "metadata": {},
   "outputs": [
    {
     "name": "stdout",
     "output_type": "stream",
     "text": [
      "I am a parent class and i have benz car\n",
      "\n",
      "I am a parent class and i have benz car\n",
      "I am child class and i am a student\n"
     ]
    }
   ],
   "source": [
    "class parent():\n",
    "    def car1(self):\n",
    "        print(\"I am a parent class and i have benz car\")\n",
    "        \n",
    "class child(parent):\n",
    "    def student(self):\n",
    "        print(\"I am child class and i am a student\")\n",
    "        \n",
    "parentobj = parent()\n",
    "childobj = child()\n",
    "\n",
    "\n",
    "parentobj.car1()\n",
    "\n",
    "print()\n",
    "\n",
    "childobj.car1()\n",
    "childobj.student()"
   ]
  },
  {
   "cell_type": "markdown",
   "id": "c5c6be4c",
   "metadata": {},
   "source": [
    "### Multiple inheritance "
   ]
  },
  {
   "cell_type": "code",
   "execution_count": 3,
   "id": "a2214104",
   "metadata": {},
   "outputs": [
    {
     "name": "stdout",
     "output_type": "stream",
     "text": [
      "I am a parent class and i have benz car\n",
      "I am child class and i am a student\n",
      "I belongs to bus category and my boss is ashok leyland\n"
     ]
    }
   ],
   "source": [
    "class one():\n",
    "    def car1(self):\n",
    "        print(\"I am a parent class and i have benz car\")\n",
    "        \n",
    "class two():\n",
    "    def student(self):\n",
    "        print(\"I am child class and i am a student\")\n",
    "        \n",
    "class three(one,two):\n",
    "    def bus(self):\n",
    "        print(\"I belongs to bus category and my boss is ashok leyland\")\n",
    "        \n",
    "threeobj = three()\n",
    "threeobj.car1()\n",
    "threeobj.student()\n",
    "threeobj.bus()\n",
    "        \n",
    "        \n"
   ]
  },
  {
   "cell_type": "markdown",
   "id": "aa3dff10",
   "metadata": {},
   "source": [
    "### Multilevel Inheritance "
   ]
  },
  {
   "cell_type": "code",
   "execution_count": 5,
   "id": "4ccdb302",
   "metadata": {},
   "outputs": [
    {
     "name": "stdout",
     "output_type": "stream",
     "text": [
      "I am a parent class and i have benz car\n"
     ]
    },
    {
     "ename": "AttributeError",
     "evalue": "'one' object has no attribute 'student'",
     "output_type": "error",
     "traceback": [
      "\u001b[1;31m---------------------------------------------------------------------------\u001b[0m",
      "\u001b[1;31mAttributeError\u001b[0m                            Traceback (most recent call last)",
      "\u001b[1;32m~\\AppData\\Local\\Temp/ipykernel_544/788405476.py\u001b[0m in \u001b[0;36m<module>\u001b[1;34m\u001b[0m\n\u001b[0;32m     14\u001b[0m \u001b[0moneobj\u001b[0m \u001b[1;33m=\u001b[0m \u001b[0mone\u001b[0m\u001b[1;33m(\u001b[0m\u001b[1;33m)\u001b[0m\u001b[1;33m\u001b[0m\u001b[1;33m\u001b[0m\u001b[0m\n\u001b[0;32m     15\u001b[0m \u001b[0moneobj\u001b[0m\u001b[1;33m.\u001b[0m\u001b[0mcar1\u001b[0m\u001b[1;33m(\u001b[0m\u001b[1;33m)\u001b[0m\u001b[1;33m\u001b[0m\u001b[1;33m\u001b[0m\u001b[0m\n\u001b[1;32m---> 16\u001b[1;33m \u001b[0moneobj\u001b[0m\u001b[1;33m.\u001b[0m\u001b[0mstudent\u001b[0m\u001b[1;33m(\u001b[0m\u001b[1;33m)\u001b[0m\u001b[1;33m\u001b[0m\u001b[1;33m\u001b[0m\u001b[0m\n\u001b[0m",
      "\u001b[1;31mAttributeError\u001b[0m: 'one' object has no attribute 'student'"
     ]
    }
   ],
   "source": [
    "class one():\n",
    "    def car1(self):\n",
    "        print(\"I am a parent class and i have benz car\")\n",
    "        \n",
    "class two(one):\n",
    "    def student(self):\n",
    "        print(\"I am child class and i am a student\")\n",
    "        \n",
    "class three(two):\n",
    "    def bus(self):\n",
    "        print(\"I belongs to bus category and my boss is ashok leyland\")\n",
    "        \n",
    "        \n",
    "oneobj = one()\n",
    "oneobj.car1()\n",
    "oneobj.student()"
   ]
  },
  {
   "cell_type": "code",
   "execution_count": 6,
   "id": "aea740bf",
   "metadata": {},
   "outputs": [
    {
     "name": "stdout",
     "output_type": "stream",
     "text": [
      "I am a parent class and i have benz car\n",
      "I am child class and i am a student\n"
     ]
    }
   ],
   "source": [
    "twoobj = two()\n",
    "twoobj.car1()\n",
    "twoobj.student()"
   ]
  },
  {
   "cell_type": "code",
   "execution_count": 8,
   "id": "a4e53d22",
   "metadata": {},
   "outputs": [
    {
     "name": "stdout",
     "output_type": "stream",
     "text": [
      "I belongs to bus category and my boss is ashok leyland\n",
      "I am child class and i am a student\n",
      "I am a parent class and i have benz car\n"
     ]
    }
   ],
   "source": [
    "threeobj = three()\n",
    "threeobj.bus()\n",
    "threeobj.student()\n",
    "threeobj.car1()"
   ]
  },
  {
   "cell_type": "markdown",
   "id": "3253b0d5",
   "metadata": {},
   "source": [
    "### Hirarichal Inheritance "
   ]
  },
  {
   "cell_type": "code",
   "execution_count": 10,
   "id": "e3117392",
   "metadata": {},
   "outputs": [
    {
     "name": "stdout",
     "output_type": "stream",
     "text": [
      "I am a parent class and i have benz car\n"
     ]
    }
   ],
   "source": [
    "class one():\n",
    "    def car1(self):\n",
    "        print(\"I am a parent class and i have benz car\")\n",
    "        \n",
    "class two(one):\n",
    "    def student(self):\n",
    "        print(\"I am child class and i am a student\")\n",
    "        \n",
    "class three(one):\n",
    "    def bus(self):\n",
    "        print(\"I belongs to bus category and my boss is ashok leyland\")\n",
    "        \n",
    "        \n",
    "oneobj = one()\n",
    "oneobj.car1()\n"
   ]
  },
  {
   "cell_type": "code",
   "execution_count": 11,
   "id": "0469d5e6",
   "metadata": {},
   "outputs": [
    {
     "name": "stdout",
     "output_type": "stream",
     "text": [
      "I am a parent class and i have benz car\n",
      "I am child class and i am a student\n"
     ]
    }
   ],
   "source": [
    "twoobj = two()\n",
    "twoobj.car1()\n",
    "twoobj.student()"
   ]
  },
  {
   "cell_type": "code",
   "execution_count": 12,
   "id": "15e8d048",
   "metadata": {},
   "outputs": [
    {
     "name": "stdout",
     "output_type": "stream",
     "text": [
      "I belongs to bus category and my boss is ashok leyland\n",
      "I am a parent class and i have benz car\n"
     ]
    }
   ],
   "source": [
    "threeobj = three()\n",
    "threeobj.bus()\n",
    "threeobj.car1()"
   ]
  },
  {
   "cell_type": "markdown",
   "id": "1d5fa487",
   "metadata": {},
   "source": [
    "#### Hybrid Inheritance "
   ]
  },
  {
   "cell_type": "code",
   "execution_count": 13,
   "id": "b8f3284e",
   "metadata": {},
   "outputs": [
    {
     "name": "stdout",
     "output_type": "stream",
     "text": [
      "I am the last class for implementing Hybrid Inheritance concept\n",
      "I belongs to bus category and my boss is ashok leyland\n",
      "I am child class and i am a student\n",
      "I am a parent class and i have benz car\n"
     ]
    }
   ],
   "source": [
    "class one():\n",
    "    def car1(self):\n",
    "        print(\"I am a parent class and i have benz car\")\n",
    "        \n",
    "class two(one):\n",
    "    def student(self):\n",
    "        print(\"I am child class and i am a student\")\n",
    "        \n",
    "class three(one):\n",
    "    def bus(self):\n",
    "        print(\"I belongs to bus category and my boss is ashok leyland\")\n",
    "\n",
    "class four(three,two):\n",
    "    def kamal(self):\n",
    "        print(\"I am the last class for implementing Hybrid Inheritance concept\")\n",
    "        \n",
    "    \n",
    "\n",
    "fourobj = four()\n",
    "fourobj.kamal()\n",
    "fourobj.bus()\n",
    "fourobj.student()\n",
    "fourobj.car1()\n"
   ]
  },
  {
   "cell_type": "code",
   "execution_count": null,
   "id": "45c54d42",
   "metadata": {},
   "outputs": [],
   "source": []
  }
 ],
 "metadata": {
  "kernelspec": {
   "display_name": "Python 3 (ipykernel)",
   "language": "python",
   "name": "python3"
  },
  "language_info": {
   "codemirror_mode": {
    "name": "ipython",
    "version": 3
   },
   "file_extension": ".py",
   "mimetype": "text/x-python",
   "name": "python",
   "nbconvert_exporter": "python",
   "pygments_lexer": "ipython3",
   "version": "3.8.12"
  }
 },
 "nbformat": 4,
 "nbformat_minor": 5
}
