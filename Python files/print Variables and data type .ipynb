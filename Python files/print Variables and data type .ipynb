{
 "cells": [
  {
   "cell_type": "markdown",
   "id": "02e52816",
   "metadata": {},
   "source": [
    "## Data Type "
   ]
  },
  {
   "cell_type": "markdown",
   "id": "44517a8c",
   "metadata": {},
   "source": [
    "- Integer (int)\n",
    "- Float (float)\n",
    "- string (str)"
   ]
  },
  {
   "cell_type": "code",
   "execution_count": 3,
   "id": "dd6505e2",
   "metadata": {},
   "outputs": [
    {
     "name": "stdout",
     "output_type": "stream",
     "text": [
      "12\n",
      "<class 'int'>\n"
     ]
    }
   ],
   "source": [
    "a = 12\n",
    "print(a)\n",
    "print(type(a))"
   ]
  },
  {
   "cell_type": "code",
   "execution_count": 4,
   "id": "3eba9827",
   "metadata": {},
   "outputs": [
    {
     "name": "stdout",
     "output_type": "stream",
     "text": [
      "12\n",
      "\n",
      "<class 'int'>\n"
     ]
    }
   ],
   "source": [
    "a = 12\n",
    "print(a)\n",
    "print()\n",
    "print(type(a))"
   ]
  },
  {
   "cell_type": "code",
   "execution_count": 5,
   "id": "d38c02cf",
   "metadata": {},
   "outputs": [
    {
     "name": "stdout",
     "output_type": "stream",
     "text": [
      "24.5\n",
      "<class 'float'>\n"
     ]
    }
   ],
   "source": [
    "a = 24.5\n",
    "print(a)\n",
    "print(type(a))"
   ]
  },
  {
   "cell_type": "code",
   "execution_count": 6,
   "id": "c167891c",
   "metadata": {},
   "outputs": [
    {
     "name": "stdout",
     "output_type": "stream",
     "text": [
      "kamal\n",
      "<class 'str'>\n"
     ]
    }
   ],
   "source": [
    "a = 'kamal'\n",
    "print(a)\n",
    "print(type(a))"
   ]
  },
  {
   "cell_type": "markdown",
   "id": "b2e1ee63",
   "metadata": {},
   "source": [
    "## Variables "
   ]
  },
  {
   "cell_type": "markdown",
   "id": "cc4a8ded",
   "metadata": {},
   "source": [
    "- Rool = 1  --->      variable should not start with a number "
   ]
  },
  {
   "cell_type": "code",
   "execution_count": 7,
   "id": "a034b727",
   "metadata": {},
   "outputs": [
    {
     "name": "stdout",
     "output_type": "stream",
     "text": [
      "vinay\n"
     ]
    }
   ],
   "source": [
    "kamal = 'vinay'\n",
    "print(kamal)"
   ]
  },
  {
   "cell_type": "code",
   "execution_count": 8,
   "id": "dbf17b59",
   "metadata": {},
   "outputs": [
    {
     "ename": "SyntaxError",
     "evalue": "invalid syntax (Temp/ipykernel_19372/4168381338.py, line 1)",
     "output_type": "error",
     "traceback": [
      "\u001b[1;36m  File \u001b[1;32m\"C:\\Users\\korla\\AppData\\Local\\Temp/ipykernel_19372/4168381338.py\"\u001b[1;36m, line \u001b[1;32m1\u001b[0m\n\u001b[1;33m    12kamal = 'vinay'\u001b[0m\n\u001b[1;37m      ^\u001b[0m\n\u001b[1;31mSyntaxError\u001b[0m\u001b[1;31m:\u001b[0m invalid syntax\n"
     ]
    }
   ],
   "source": [
    "12kamal = 'vinay'\n",
    "print(12kamal)"
   ]
  },
  {
   "cell_type": "code",
   "execution_count": 10,
   "id": "fac605fc",
   "metadata": {},
   "outputs": [
    {
     "name": "stdout",
     "output_type": "stream",
     "text": [
      "vinay\n"
     ]
    }
   ],
   "source": [
    "kamal12 = 'vinay'\n",
    "print(kamal12)"
   ]
  },
  {
   "cell_type": "code",
   "execution_count": 13,
   "id": "d3b808d7",
   "metadata": {},
   "outputs": [
    {
     "name": "stdout",
     "output_type": "stream",
     "text": [
      "teja\n"
     ]
    }
   ],
   "source": [
    "_12kamal = 'teja'\n",
    "print(_12kamal)"
   ]
  },
  {
   "cell_type": "markdown",
   "id": "589dcf66",
   "metadata": {},
   "source": [
    "- Rool Number 2 -----> should not have space between names instead use '_' score "
   ]
  },
  {
   "cell_type": "code",
   "execution_count": 14,
   "id": "67a04ab8",
   "metadata": {},
   "outputs": [
    {
     "ename": "SyntaxError",
     "evalue": "invalid syntax (Temp/ipykernel_19372/1919459014.py, line 1)",
     "output_type": "error",
     "traceback": [
      "\u001b[1;36m  File \u001b[1;32m\"C:\\Users\\korla\\AppData\\Local\\Temp/ipykernel_19372/1919459014.py\"\u001b[1;36m, line \u001b[1;32m1\u001b[0m\n\u001b[1;33m    kamal sai teja = 12\u001b[0m\n\u001b[1;37m          ^\u001b[0m\n\u001b[1;31mSyntaxError\u001b[0m\u001b[1;31m:\u001b[0m invalid syntax\n"
     ]
    }
   ],
   "source": [
    "kamal sai teja = 12\n",
    "print(kamal sai teja)"
   ]
  },
  {
   "cell_type": "code",
   "execution_count": 16,
   "id": "621e3745",
   "metadata": {},
   "outputs": [
    {
     "name": "stdout",
     "output_type": "stream",
     "text": [
      "12\n"
     ]
    }
   ],
   "source": [
    "kamalsaiteja = 12\n",
    "print(kamalsaiteja)"
   ]
  },
  {
   "cell_type": "code",
   "execution_count": 17,
   "id": "ab9cef1d",
   "metadata": {},
   "outputs": [
    {
     "name": "stdout",
     "output_type": "stream",
     "text": [
      "12\n"
     ]
    }
   ],
   "source": [
    "kamal_sai_teja = 12\n",
    "print(kamal_sai_teja)"
   ]
  },
  {
   "cell_type": "markdown",
   "id": "a8616ac0",
   "metadata": {},
   "source": [
    "- Rool no 3   -> variables will follow case sensitive pls mention clearlly "
   ]
  },
  {
   "cell_type": "code",
   "execution_count": 18,
   "id": "0fd85916",
   "metadata": {},
   "outputs": [
    {
     "name": "stdout",
     "output_type": "stream",
     "text": [
      "34\n"
     ]
    }
   ],
   "source": [
    "a = 34\n",
    "print(a)"
   ]
  },
  {
   "cell_type": "code",
   "execution_count": 19,
   "id": "6f940b00",
   "metadata": {},
   "outputs": [
    {
     "ename": "NameError",
     "evalue": "name 'A' is not defined",
     "output_type": "error",
     "traceback": [
      "\u001b[1;31m---------------------------------------------------------------------------\u001b[0m",
      "\u001b[1;31mNameError\u001b[0m                                 Traceback (most recent call last)",
      "\u001b[1;32m~\\AppData\\Local\\Temp/ipykernel_19372/2012351805.py\u001b[0m in \u001b[0;36m<module>\u001b[1;34m\u001b[0m\n\u001b[0;32m      1\u001b[0m \u001b[0ma\u001b[0m \u001b[1;33m=\u001b[0m \u001b[1;36m56\u001b[0m\u001b[1;33m\u001b[0m\u001b[1;33m\u001b[0m\u001b[0m\n\u001b[1;32m----> 2\u001b[1;33m \u001b[0mprint\u001b[0m\u001b[1;33m(\u001b[0m\u001b[0mA\u001b[0m\u001b[1;33m)\u001b[0m\u001b[1;33m\u001b[0m\u001b[1;33m\u001b[0m\u001b[0m\n\u001b[0m",
      "\u001b[1;31mNameError\u001b[0m: name 'A' is not defined"
     ]
    }
   ],
   "source": [
    "a = 56\n",
    "print(A)"
   ]
  },
  {
   "cell_type": "code",
   "execution_count": 20,
   "id": "0c4ae2a2",
   "metadata": {},
   "outputs": [
    {
     "ename": "NameError",
     "evalue": "name 'saikm' is not defined",
     "output_type": "error",
     "traceback": [
      "\u001b[1;31m---------------------------------------------------------------------------\u001b[0m",
      "\u001b[1;31mNameError\u001b[0m                                 Traceback (most recent call last)",
      "\u001b[1;32m~\\AppData\\Local\\Temp/ipykernel_19372/1227987691.py\u001b[0m in \u001b[0;36m<module>\u001b[1;34m\u001b[0m\n\u001b[0;32m      1\u001b[0m \u001b[0msaiKm\u001b[0m \u001b[1;33m=\u001b[0m \u001b[1;36m45.5\u001b[0m\u001b[1;33m\u001b[0m\u001b[1;33m\u001b[0m\u001b[0m\n\u001b[1;32m----> 2\u001b[1;33m \u001b[0mprint\u001b[0m\u001b[1;33m(\u001b[0m\u001b[0msaikm\u001b[0m\u001b[1;33m)\u001b[0m\u001b[1;33m\u001b[0m\u001b[1;33m\u001b[0m\u001b[0m\n\u001b[0m",
      "\u001b[1;31mNameError\u001b[0m: name 'saikm' is not defined"
     ]
    }
   ],
   "source": [
    "saiKm = 45.5\n",
    "print(saikm)"
   ]
  },
  {
   "cell_type": "code",
   "execution_count": 28,
   "id": "6d37c20c",
   "metadata": {},
   "outputs": [
    {
     "name": "stdout",
     "output_type": "stream",
     "text": [
      "kamal\n"
     ]
    }
   ],
   "source": [
    "A = 'kamal'\n",
    "print(A)"
   ]
  },
  {
   "cell_type": "code",
   "execution_count": 29,
   "id": "c4e0752b",
   "metadata": {},
   "outputs": [
    {
     "name": "stdout",
     "output_type": "stream",
     "text": [
      "kamal\n"
     ]
    }
   ],
   "source": [
    "a = 45\n",
    "print(A)"
   ]
  },
  {
   "cell_type": "markdown",
   "id": "1a21fd91",
   "metadata": {},
   "source": [
    "###  cannot use this symbols as varibales special charachets !\"#$%&\\'()*+,-./:;<=>?@[\\\\]^_`{|}~"
   ]
  },
  {
   "cell_type": "code",
   "execution_count": 24,
   "id": "1d6d0e6d",
   "metadata": {},
   "outputs": [],
   "source": [
    "# !\"#$%&\\'()*+,-./:;<=>?@[\\\\]^_`{|}~"
   ]
  },
  {
   "cell_type": "code",
   "execution_count": 25,
   "id": "f64edc9f",
   "metadata": {},
   "outputs": [
    {
     "ename": "SyntaxError",
     "evalue": "invalid syntax (Temp/ipykernel_19372/1691804849.py, line 1)",
     "output_type": "error",
     "traceback": [
      "\u001b[1;36m  File \u001b[1;32m\"C:\\Users\\korla\\AppData\\Local\\Temp/ipykernel_19372/1691804849.py\"\u001b[1;36m, line \u001b[1;32m1\u001b[0m\n\u001b[1;33m    & = 12\u001b[0m\n\u001b[1;37m    ^\u001b[0m\n\u001b[1;31mSyntaxError\u001b[0m\u001b[1;31m:\u001b[0m invalid syntax\n"
     ]
    }
   ],
   "source": [
    "& = 12\n",
    "print(&)"
   ]
  },
  {
   "cell_type": "code",
   "execution_count": 26,
   "id": "899a4250",
   "metadata": {},
   "outputs": [
    {
     "ename": "SyntaxError",
     "evalue": "invalid syntax (Temp/ipykernel_19372/4200825277.py, line 1)",
     "output_type": "error",
     "traceback": [
      "\u001b[1;36m  File \u001b[1;32m\"C:\\Users\\korla\\AppData\\Local\\Temp/ipykernel_19372/4200825277.py\"\u001b[1;36m, line \u001b[1;32m1\u001b[0m\n\u001b[1;33m    _& = 12\u001b[0m\n\u001b[1;37m       ^\u001b[0m\n\u001b[1;31mSyntaxError\u001b[0m\u001b[1;31m:\u001b[0m invalid syntax\n"
     ]
    }
   ],
   "source": [
    "_& = 12\n",
    "print(_&)"
   ]
  },
  {
   "cell_type": "code",
   "execution_count": 27,
   "id": "d902d148",
   "metadata": {},
   "outputs": [
    {
     "ename": "SyntaxError",
     "evalue": "invalid syntax (Temp/ipykernel_19372/351313602.py, line 1)",
     "output_type": "error",
     "traceback": [
      "\u001b[1;36m  File \u001b[1;32m\"C:\\Users\\korla\\AppData\\Local\\Temp/ipykernel_19372/351313602.py\"\u001b[1;36m, line \u001b[1;32m1\u001b[0m\n\u001b[1;33m    kamal& = 12\u001b[0m\n\u001b[1;37m           ^\u001b[0m\n\u001b[1;31mSyntaxError\u001b[0m\u001b[1;31m:\u001b[0m invalid syntax\n"
     ]
    }
   ],
   "source": [
    "kamal& = 12\n",
    "print(kamal&)"
   ]
  },
  {
   "cell_type": "markdown",
   "id": "c42915bd",
   "metadata": {},
   "source": [
    "### Conversions "
   ]
  },
  {
   "cell_type": "markdown",
   "id": "626675ab",
   "metadata": {},
   "source": [
    "# int to float conversions "
   ]
  },
  {
   "cell_type": "code",
   "execution_count": 30,
   "id": "2a9a8f94",
   "metadata": {},
   "outputs": [
    {
     "name": "stdout",
     "output_type": "stream",
     "text": [
      "12\n",
      "<class 'int'>\n"
     ]
    }
   ],
   "source": [
    "a = 12\n",
    "print(a)\n",
    "print(type(a))"
   ]
  },
  {
   "cell_type": "code",
   "execution_count": 31,
   "id": "4715dbbc",
   "metadata": {},
   "outputs": [
    {
     "name": "stdout",
     "output_type": "stream",
     "text": [
      "12\n",
      "<class 'int'>\n",
      "\n",
      "12.0\n",
      "<class 'float'>\n"
     ]
    }
   ],
   "source": [
    "a = 12\n",
    "print(a)\n",
    "print(type(a))\n",
    "print()\n",
    "b = float(a)\n",
    "print(b)\n",
    "print(type(b))"
   ]
  },
  {
   "cell_type": "markdown",
   "id": "7bfcd028",
   "metadata": {},
   "source": [
    "### float to integer "
   ]
  },
  {
   "cell_type": "code",
   "execution_count": 33,
   "id": "44dd9371",
   "metadata": {},
   "outputs": [
    {
     "name": "stdout",
     "output_type": "stream",
     "text": [
      "98.9\n",
      "<class 'float'>\n",
      "\n",
      "98\n",
      "<class 'int'>\n"
     ]
    }
   ],
   "source": [
    "a = 98.9\n",
    "print(a)\n",
    "print(type(a))\n",
    "print()\n",
    "b = int(a)\n",
    "print(b)\n",
    "print(type(b))"
   ]
  },
  {
   "cell_type": "markdown",
   "id": "08aa2faf",
   "metadata": {},
   "source": [
    "## converting int and float to string "
   ]
  },
  {
   "cell_type": "code",
   "execution_count": 34,
   "id": "1791055b",
   "metadata": {},
   "outputs": [
    {
     "name": "stdout",
     "output_type": "stream",
     "text": [
      "12\n",
      "<class 'int'>\n",
      "\n",
      "12\n",
      "<class 'str'>\n"
     ]
    }
   ],
   "source": [
    "a = 12\n",
    "print(a)\n",
    "print(type(a))\n",
    "print()\n",
    "b = str(a)\n",
    "print(b)\n",
    "print(type(b))"
   ]
  },
  {
   "cell_type": "code",
   "execution_count": 35,
   "id": "8c7a3ba0",
   "metadata": {},
   "outputs": [
    {
     "data": {
      "text/plain": [
       "'12'"
      ]
     },
     "execution_count": 35,
     "metadata": {},
     "output_type": "execute_result"
    }
   ],
   "source": [
    "f = 12\n",
    "str(f)"
   ]
  },
  {
   "cell_type": "code",
   "execution_count": 36,
   "id": "33e80d78",
   "metadata": {},
   "outputs": [
    {
     "data": {
      "text/plain": [
       "'12.56'"
      ]
     },
     "execution_count": 36,
     "metadata": {},
     "output_type": "execute_result"
    }
   ],
   "source": [
    "f = 12.56\n",
    "str(f)"
   ]
  },
  {
   "cell_type": "code",
   "execution_count": 39,
   "id": "3c608d1e",
   "metadata": {},
   "outputs": [
    {
     "name": "stdout",
     "output_type": "stream",
     "text": [
      "12.3\n"
     ]
    }
   ],
   "source": [
    "a = 12.3\n",
    "print(str(a))"
   ]
  },
  {
   "cell_type": "markdown",
   "id": "2d996bd9",
   "metadata": {},
   "source": [
    "### converting string to int "
   ]
  },
  {
   "cell_type": "code",
   "execution_count": 42,
   "id": "3068bb8c",
   "metadata": {},
   "outputs": [
    {
     "name": "stdout",
     "output_type": "stream",
     "text": [
      "1256\n",
      "<class 'str'>\n",
      "\n",
      "1256\n",
      "<class 'int'>\n"
     ]
    }
   ],
   "source": [
    "a = '1256'\n",
    "print(a)\n",
    "print(type(a))\n",
    "print()\n",
    "b = int(a)\n",
    "print(b)\n",
    "print(type(b))"
   ]
  },
  {
   "cell_type": "code",
   "execution_count": 43,
   "id": "310b7b07",
   "metadata": {},
   "outputs": [
    {
     "name": "stdout",
     "output_type": "stream",
     "text": [
      "kamal\n",
      "<class 'str'>\n",
      "\n"
     ]
    },
    {
     "ename": "ValueError",
     "evalue": "invalid literal for int() with base 10: 'kamal'",
     "output_type": "error",
     "traceback": [
      "\u001b[1;31m---------------------------------------------------------------------------\u001b[0m",
      "\u001b[1;31mValueError\u001b[0m                                Traceback (most recent call last)",
      "\u001b[1;32m~\\AppData\\Local\\Temp/ipykernel_19372/206796639.py\u001b[0m in \u001b[0;36m<module>\u001b[1;34m\u001b[0m\n\u001b[0;32m      3\u001b[0m \u001b[0mprint\u001b[0m\u001b[1;33m(\u001b[0m\u001b[0mtype\u001b[0m\u001b[1;33m(\u001b[0m\u001b[0ma\u001b[0m\u001b[1;33m)\u001b[0m\u001b[1;33m)\u001b[0m\u001b[1;33m\u001b[0m\u001b[1;33m\u001b[0m\u001b[0m\n\u001b[0;32m      4\u001b[0m \u001b[0mprint\u001b[0m\u001b[1;33m(\u001b[0m\u001b[1;33m)\u001b[0m\u001b[1;33m\u001b[0m\u001b[1;33m\u001b[0m\u001b[0m\n\u001b[1;32m----> 5\u001b[1;33m \u001b[0mb\u001b[0m \u001b[1;33m=\u001b[0m \u001b[0mint\u001b[0m\u001b[1;33m(\u001b[0m\u001b[0ma\u001b[0m\u001b[1;33m)\u001b[0m\u001b[1;33m\u001b[0m\u001b[1;33m\u001b[0m\u001b[0m\n\u001b[0m\u001b[0;32m      6\u001b[0m \u001b[0mprint\u001b[0m\u001b[1;33m(\u001b[0m\u001b[0mb\u001b[0m\u001b[1;33m)\u001b[0m\u001b[1;33m\u001b[0m\u001b[1;33m\u001b[0m\u001b[0m\n\u001b[0;32m      7\u001b[0m \u001b[0mprint\u001b[0m\u001b[1;33m(\u001b[0m\u001b[0mtype\u001b[0m\u001b[1;33m(\u001b[0m\u001b[0mb\u001b[0m\u001b[1;33m)\u001b[0m\u001b[1;33m)\u001b[0m\u001b[1;33m\u001b[0m\u001b[1;33m\u001b[0m\u001b[0m\n",
      "\u001b[1;31mValueError\u001b[0m: invalid literal for int() with base 10: 'kamal'"
     ]
    }
   ],
   "source": [
    "a = 'kamal'\n",
    "print(a)\n",
    "print(type(a))\n",
    "print()\n",
    "b = int(a)\n",
    "print(b)\n",
    "print(type(b))"
   ]
  },
  {
   "cell_type": "code",
   "execution_count": 44,
   "id": "ba486a72",
   "metadata": {},
   "outputs": [
    {
     "name": "stdout",
     "output_type": "stream",
     "text": [
      "kamal123\n",
      "<class 'str'>\n",
      "\n"
     ]
    },
    {
     "ename": "ValueError",
     "evalue": "invalid literal for int() with base 10: 'kamal123'",
     "output_type": "error",
     "traceback": [
      "\u001b[1;31m---------------------------------------------------------------------------\u001b[0m",
      "\u001b[1;31mValueError\u001b[0m                                Traceback (most recent call last)",
      "\u001b[1;32m~\\AppData\\Local\\Temp/ipykernel_19372/745280694.py\u001b[0m in \u001b[0;36m<module>\u001b[1;34m\u001b[0m\n\u001b[0;32m      3\u001b[0m \u001b[0mprint\u001b[0m\u001b[1;33m(\u001b[0m\u001b[0mtype\u001b[0m\u001b[1;33m(\u001b[0m\u001b[0ma\u001b[0m\u001b[1;33m)\u001b[0m\u001b[1;33m)\u001b[0m\u001b[1;33m\u001b[0m\u001b[1;33m\u001b[0m\u001b[0m\n\u001b[0;32m      4\u001b[0m \u001b[0mprint\u001b[0m\u001b[1;33m(\u001b[0m\u001b[1;33m)\u001b[0m\u001b[1;33m\u001b[0m\u001b[1;33m\u001b[0m\u001b[0m\n\u001b[1;32m----> 5\u001b[1;33m \u001b[0mb\u001b[0m \u001b[1;33m=\u001b[0m \u001b[0mint\u001b[0m\u001b[1;33m(\u001b[0m\u001b[0ma\u001b[0m\u001b[1;33m)\u001b[0m\u001b[1;33m\u001b[0m\u001b[1;33m\u001b[0m\u001b[0m\n\u001b[0m\u001b[0;32m      6\u001b[0m \u001b[0mprint\u001b[0m\u001b[1;33m(\u001b[0m\u001b[0mb\u001b[0m\u001b[1;33m)\u001b[0m\u001b[1;33m\u001b[0m\u001b[1;33m\u001b[0m\u001b[0m\n\u001b[0;32m      7\u001b[0m \u001b[0mprint\u001b[0m\u001b[1;33m(\u001b[0m\u001b[0mtype\u001b[0m\u001b[1;33m(\u001b[0m\u001b[0mb\u001b[0m\u001b[1;33m)\u001b[0m\u001b[1;33m)\u001b[0m\u001b[1;33m\u001b[0m\u001b[1;33m\u001b[0m\u001b[0m\n",
      "\u001b[1;31mValueError\u001b[0m: invalid literal for int() with base 10: 'kamal123'"
     ]
    }
   ],
   "source": [
    "a = 'kamal123'\n",
    "print(a)\n",
    "print(type(a))\n",
    "print()\n",
    "b = int(a)\n",
    "print(b)\n",
    "print(type(b))"
   ]
  },
  {
   "cell_type": "code",
   "execution_count": 45,
   "id": "91d1b46f",
   "metadata": {},
   "outputs": [
    {
     "name": "stdout",
     "output_type": "stream",
     "text": [
      "1256.7\n",
      "<class 'str'>\n",
      "\n",
      "1256.7\n",
      "<class 'float'>\n"
     ]
    }
   ],
   "source": [
    "a = '1256.7'\n",
    "print(a)\n",
    "print(type(a))\n",
    "print()\n",
    "b = float(a)\n",
    "print(b)\n",
    "print(type(b))"
   ]
  },
  {
   "cell_type": "code",
   "execution_count": 46,
   "id": "df3fc6e8",
   "metadata": {},
   "outputs": [
    {
     "name": "stdout",
     "output_type": "stream",
     "text": [
      "1256.7kamal\n",
      "<class 'str'>\n",
      "\n"
     ]
    },
    {
     "ename": "ValueError",
     "evalue": "invalid literal for int() with base 10: '1256.7kamal'",
     "output_type": "error",
     "traceback": [
      "\u001b[1;31m---------------------------------------------------------------------------\u001b[0m",
      "\u001b[1;31mValueError\u001b[0m                                Traceback (most recent call last)",
      "\u001b[1;32m~\\AppData\\Local\\Temp/ipykernel_19372/3088699562.py\u001b[0m in \u001b[0;36m<module>\u001b[1;34m\u001b[0m\n\u001b[0;32m      3\u001b[0m \u001b[0mprint\u001b[0m\u001b[1;33m(\u001b[0m\u001b[0mtype\u001b[0m\u001b[1;33m(\u001b[0m\u001b[0ma\u001b[0m\u001b[1;33m)\u001b[0m\u001b[1;33m)\u001b[0m\u001b[1;33m\u001b[0m\u001b[1;33m\u001b[0m\u001b[0m\n\u001b[0;32m      4\u001b[0m \u001b[0mprint\u001b[0m\u001b[1;33m(\u001b[0m\u001b[1;33m)\u001b[0m\u001b[1;33m\u001b[0m\u001b[1;33m\u001b[0m\u001b[0m\n\u001b[1;32m----> 5\u001b[1;33m \u001b[0mb\u001b[0m \u001b[1;33m=\u001b[0m \u001b[0mint\u001b[0m\u001b[1;33m(\u001b[0m\u001b[0ma\u001b[0m\u001b[1;33m)\u001b[0m\u001b[1;33m\u001b[0m\u001b[1;33m\u001b[0m\u001b[0m\n\u001b[0m\u001b[0;32m      6\u001b[0m \u001b[0mprint\u001b[0m\u001b[1;33m(\u001b[0m\u001b[0mb\u001b[0m\u001b[1;33m)\u001b[0m\u001b[1;33m\u001b[0m\u001b[1;33m\u001b[0m\u001b[0m\n\u001b[0;32m      7\u001b[0m \u001b[0mprint\u001b[0m\u001b[1;33m(\u001b[0m\u001b[0mtype\u001b[0m\u001b[1;33m(\u001b[0m\u001b[0mb\u001b[0m\u001b[1;33m)\u001b[0m\u001b[1;33m)\u001b[0m\u001b[1;33m\u001b[0m\u001b[1;33m\u001b[0m\u001b[0m\n",
      "\u001b[1;31mValueError\u001b[0m: invalid literal for int() with base 10: '1256.7kamal'"
     ]
    }
   ],
   "source": [
    "a = '1256.7kamal'\n",
    "print(a)\n",
    "print(type(a))\n",
    "print()\n",
    "b = int(a)\n",
    "print(b)\n",
    "print(type(b))"
   ]
  },
  {
   "cell_type": "code",
   "execution_count": 47,
   "id": "21beb2b2",
   "metadata": {},
   "outputs": [
    {
     "name": "stdout",
     "output_type": "stream",
     "text": [
      "12.4\n",
      "12.4\n",
      "12\n"
     ]
    }
   ],
   "source": [
    "a = '12.4'\n",
    "print(a)\n",
    "b = float(a)\n",
    "print(b)\n",
    "c = int(b)\n",
    "print(c)"
   ]
  },
  {
   "cell_type": "markdown",
   "id": "f0a1781c",
   "metadata": {},
   "source": [
    "### Operators "
   ]
  },
  {
   "cell_type": "raw",
   "id": "a3253dc3",
   "metadata": {},
   "source": [
    "- +  (add)\n",
    "- -  (sub)\n",
    "- *  (mul)\n",
    "- /  (div)\n",
    "- // (floor division)\n",
    "- %  (mod function)\n",
    "- =  \n",
    "- == \n",
    "- >\n",
    "- <\n",
    "- >=\n",
    "- <=\n",
    "- !  (not equal to)"
   ]
  },
  {
   "cell_type": "code",
   "execution_count": 48,
   "id": "ba25f985",
   "metadata": {},
   "outputs": [
    {
     "data": {
      "text/plain": [
       "3"
      ]
     },
     "execution_count": 48,
     "metadata": {},
     "output_type": "execute_result"
    }
   ],
   "source": [
    "1 + 2"
   ]
  },
  {
   "cell_type": "code",
   "execution_count": 49,
   "id": "69081b33",
   "metadata": {},
   "outputs": [
    {
     "data": {
      "text/plain": [
       "1"
      ]
     },
     "execution_count": 49,
     "metadata": {},
     "output_type": "execute_result"
    }
   ],
   "source": [
    "2 - 1"
   ]
  },
  {
   "cell_type": "code",
   "execution_count": 50,
   "id": "76e86d1e",
   "metadata": {},
   "outputs": [
    {
     "data": {
      "text/plain": [
       "20"
      ]
     },
     "execution_count": 50,
     "metadata": {},
     "output_type": "execute_result"
    }
   ],
   "source": [
    "2 * 10"
   ]
  },
  {
   "cell_type": "code",
   "execution_count": 51,
   "id": "c0f29e79",
   "metadata": {},
   "outputs": [
    {
     "data": {
      "text/plain": [
       "5.0"
      ]
     },
     "execution_count": 51,
     "metadata": {},
     "output_type": "execute_result"
    }
   ],
   "source": [
    "10 / 2"
   ]
  },
  {
   "cell_type": "code",
   "execution_count": 52,
   "id": "37cae5d0",
   "metadata": {},
   "outputs": [
    {
     "data": {
      "text/plain": [
       "2.4"
      ]
     },
     "execution_count": 52,
     "metadata": {},
     "output_type": "execute_result"
    }
   ],
   "source": [
    "12 / 5"
   ]
  },
  {
   "cell_type": "code",
   "execution_count": 53,
   "id": "e36454b0",
   "metadata": {},
   "outputs": [
    {
     "data": {
      "text/plain": [
       "2"
      ]
     },
     "execution_count": 53,
     "metadata": {},
     "output_type": "execute_result"
    }
   ],
   "source": [
    "12 // 5"
   ]
  },
  {
   "cell_type": "code",
   "execution_count": 54,
   "id": "b369474e",
   "metadata": {},
   "outputs": [
    {
     "data": {
      "text/plain": [
       "0"
      ]
     },
     "execution_count": 54,
     "metadata": {},
     "output_type": "execute_result"
    }
   ],
   "source": [
    "10 % 5"
   ]
  },
  {
   "cell_type": "code",
   "execution_count": 55,
   "id": "778bbe55",
   "metadata": {},
   "outputs": [
    {
     "data": {
      "text/plain": [
       "2"
      ]
     },
     "execution_count": 55,
     "metadata": {},
     "output_type": "execute_result"
    }
   ],
   "source": [
    "12 % 5"
   ]
  },
  {
   "cell_type": "code",
   "execution_count": 56,
   "id": "35b6d390",
   "metadata": {},
   "outputs": [
    {
     "data": {
      "text/plain": [
       "2.4"
      ]
     },
     "execution_count": 56,
     "metadata": {},
     "output_type": "execute_result"
    }
   ],
   "source": [
    "12 / 5"
   ]
  },
  {
   "cell_type": "code",
   "execution_count": 57,
   "id": "e8c8815c",
   "metadata": {},
   "outputs": [
    {
     "data": {
      "text/plain": [
       "12"
      ]
     },
     "execution_count": 57,
     "metadata": {},
     "output_type": "execute_result"
    }
   ],
   "source": [
    "a = 12\n",
    "a"
   ]
  },
  {
   "cell_type": "code",
   "execution_count": 58,
   "id": "32f50be4",
   "metadata": {},
   "outputs": [
    {
     "data": {
      "text/plain": [
       "False"
      ]
     },
     "execution_count": 58,
     "metadata": {},
     "output_type": "execute_result"
    }
   ],
   "source": [
    "12 == 10"
   ]
  },
  {
   "cell_type": "code",
   "execution_count": 59,
   "id": "db1c5486",
   "metadata": {},
   "outputs": [
    {
     "data": {
      "text/plain": [
       "True"
      ]
     },
     "execution_count": 59,
     "metadata": {},
     "output_type": "execute_result"
    }
   ],
   "source": [
    "10 == 10"
   ]
  },
  {
   "cell_type": "code",
   "execution_count": 60,
   "id": "980b51b0",
   "metadata": {},
   "outputs": [
    {
     "data": {
      "text/plain": [
       "False"
      ]
     },
     "execution_count": 60,
     "metadata": {},
     "output_type": "execute_result"
    }
   ],
   "source": [
    "5 > 10"
   ]
  },
  {
   "cell_type": "code",
   "execution_count": 61,
   "id": "c7ad9a83",
   "metadata": {},
   "outputs": [
    {
     "data": {
      "text/plain": [
       "True"
      ]
     },
     "execution_count": 61,
     "metadata": {},
     "output_type": "execute_result"
    }
   ],
   "source": [
    "5 < 10"
   ]
  },
  {
   "cell_type": "code",
   "execution_count": 62,
   "id": "558acb7e",
   "metadata": {},
   "outputs": [
    {
     "data": {
      "text/plain": [
       "False"
      ]
     },
     "execution_count": 62,
     "metadata": {},
     "output_type": "execute_result"
    }
   ],
   "source": [
    "5 >= 10"
   ]
  },
  {
   "cell_type": "code",
   "execution_count": 63,
   "id": "4937e884",
   "metadata": {},
   "outputs": [
    {
     "data": {
      "text/plain": [
       "True"
      ]
     },
     "execution_count": 63,
     "metadata": {},
     "output_type": "execute_result"
    }
   ],
   "source": [
    "5 <= 10"
   ]
  },
  {
   "cell_type": "code",
   "execution_count": 64,
   "id": "49638ae1",
   "metadata": {},
   "outputs": [
    {
     "data": {
      "text/plain": [
       "True"
      ]
     },
     "execution_count": 64,
     "metadata": {},
     "output_type": "execute_result"
    }
   ],
   "source": [
    "10 != 5"
   ]
  },
  {
   "cell_type": "code",
   "execution_count": 66,
   "id": "d3640510",
   "metadata": {},
   "outputs": [
    {
     "data": {
      "text/plain": [
       "False"
      ]
     },
     "execution_count": 66,
     "metadata": {},
     "output_type": "execute_result"
    }
   ],
   "source": [
    "5/2 == 10 + 2"
   ]
  },
  {
   "cell_type": "markdown",
   "id": "07df92de",
   "metadata": {},
   "source": [
    "## Rules to add variable and print condition "
   ]
  },
  {
   "cell_type": "code",
   "execution_count": 67,
   "id": "05c7d300",
   "metadata": {},
   "outputs": [
    {
     "name": "stdout",
     "output_type": "stream",
     "text": [
      "bdvilasdgbviabsdivaidvbhaifhviahdfivbhab\n"
     ]
    }
   ],
   "source": [
    "print('bdvilasdgbviabsdivaidvbhaifhviahdfivbhab')"
   ]
  },
  {
   "cell_type": "markdown",
   "id": "002fdeea",
   "metadata": {},
   "source": [
    "- using comma (,)"
   ]
  },
  {
   "cell_type": "code",
   "execution_count": 68,
   "id": "1867b444",
   "metadata": {},
   "outputs": [
    {
     "name": "stdout",
     "output_type": "stream",
     "text": [
      "My name is kamal and My age is 25\n"
     ]
    }
   ],
   "source": [
    "a = 25\n",
    "print('My name is kamal and My age is',a)"
   ]
  },
  {
   "cell_type": "code",
   "execution_count": 70,
   "id": "5ced1669",
   "metadata": {},
   "outputs": [
    {
     "name": "stdout",
     "output_type": "stream",
     "text": [
      "My name is kamal and my age is 25 and currency value is 40.0\n"
     ]
    }
   ],
   "source": [
    "a = 25\n",
    "b = 'kamal'\n",
    "c = 40.0\n",
    "\n",
    "\n",
    "\n",
    "print('My name is',b,'and my age is',a,'and currency value is',c)"
   ]
  },
  {
   "cell_type": "markdown",
   "id": "95bd909e",
   "metadata": {},
   "source": [
    "## rool no 2  using (+)"
   ]
  },
  {
   "cell_type": "code",
   "execution_count": 74,
   "id": "21e3429a",
   "metadata": {},
   "outputs": [
    {
     "ename": "TypeError",
     "evalue": "can only concatenate str (not \"int\") to str",
     "output_type": "error",
     "traceback": [
      "\u001b[1;31m---------------------------------------------------------------------------\u001b[0m",
      "\u001b[1;31mTypeError\u001b[0m                                 Traceback (most recent call last)",
      "\u001b[1;32m~\\AppData\\Local\\Temp/ipykernel_19372/314172440.py\u001b[0m in \u001b[0;36m<module>\u001b[1;34m\u001b[0m\n\u001b[0;32m      1\u001b[0m \u001b[0ma\u001b[0m \u001b[1;33m=\u001b[0m \u001b[1;36m25\u001b[0m\u001b[1;33m\u001b[0m\u001b[1;33m\u001b[0m\u001b[0m\n\u001b[1;32m----> 2\u001b[1;33m \u001b[0mprint\u001b[0m\u001b[1;33m(\u001b[0m\u001b[1;34m'My name is kamal and My age is'\u001b[0m\u001b[1;33m+\u001b[0m\u001b[0ma\u001b[0m\u001b[1;33m)\u001b[0m\u001b[1;33m\u001b[0m\u001b[1;33m\u001b[0m\u001b[0m\n\u001b[0m",
      "\u001b[1;31mTypeError\u001b[0m: can only concatenate str (not \"int\") to str"
     ]
    }
   ],
   "source": [
    "a = 25\n",
    "print('My name is kamal and My age is'+a)"
   ]
  },
  {
   "cell_type": "code",
   "execution_count": 75,
   "id": "b7c7adcc",
   "metadata": {},
   "outputs": [
    {
     "name": "stdout",
     "output_type": "stream",
     "text": [
      "My name is kamal and My age is25\n"
     ]
    }
   ],
   "source": [
    "a = 25\n",
    "print('My name is kamal and My age is'+str(a))"
   ]
  },
  {
   "cell_type": "code",
   "execution_count": 77,
   "id": "3db3f4b8",
   "metadata": {},
   "outputs": [
    {
     "name": "stdout",
     "output_type": "stream",
     "text": [
      "My name iskamaland my age is25and my currency is40.0\n"
     ]
    }
   ],
   "source": [
    "a = 25\n",
    "b = 'kamal'\n",
    "c = 40.0\n",
    "\n",
    "\n",
    "\n",
    "print('My name is'+b+'and my age is'+str(a)+'and my currency is'+str(c))"
   ]
  },
  {
   "cell_type": "code",
   "execution_count": 78,
   "id": "2b2099d5",
   "metadata": {},
   "outputs": [
    {
     "name": "stdout",
     "output_type": "stream",
     "text": [
      "My name is kamal and my age is 25 and my currency is 40.0\n"
     ]
    }
   ],
   "source": [
    "a = 25\n",
    "b = 'kamal'\n",
    "c = 40.0\n",
    "\n",
    "\n",
    "\n",
    "print('My name is '+b+' and my age is '+str(a)+' and my currency is '+str(c))"
   ]
  },
  {
   "cell_type": "code",
   "execution_count": 81,
   "id": "aa2e33c6",
   "metadata": {},
   "outputs": [
    {
     "name": "stdout",
     "output_type": "stream",
     "text": [
      "My name is kamal and my age is 25\n"
     ]
    }
   ],
   "source": [
    "a = 25\n",
    "b = 'kamal'\n",
    "c = 40.0\n",
    "\n",
    "\n",
    "\n",
    "print(\"My name is\"+' '+b+' '+'and my age is'+' '+str(a))"
   ]
  },
  {
   "cell_type": "markdown",
   "id": "61aad3a6",
   "metadata": {},
   "source": [
    "## rool num 3 using %"
   ]
  },
  {
   "cell_type": "code",
   "execution_count": 82,
   "id": "6c819a83",
   "metadata": {},
   "outputs": [],
   "source": [
    "# int (%d)\n",
    "# float (%f)\n",
    "# string (%s)"
   ]
  },
  {
   "cell_type": "code",
   "execution_count": 83,
   "id": "12ab4145",
   "metadata": {},
   "outputs": [
    {
     "name": "stdout",
     "output_type": "stream",
     "text": [
      "25 is my age\n"
     ]
    }
   ],
   "source": [
    "a = 25\n",
    "\n",
    "\n",
    "\n",
    "print('%d is my age'%a)"
   ]
  },
  {
   "cell_type": "code",
   "execution_count": 84,
   "id": "fdc91884",
   "metadata": {},
   "outputs": [
    {
     "name": "stdout",
     "output_type": "stream",
     "text": [
      "My age is 25 and my curreny is 40.000000\n"
     ]
    }
   ],
   "source": [
    "a = 25\n",
    "b = 40.0\n",
    "\n",
    "print('My age is %d and my curreny is %f'%(a,b))"
   ]
  },
  {
   "cell_type": "code",
   "execution_count": 86,
   "id": "bce2d59c",
   "metadata": {},
   "outputs": [
    {
     "ename": "TypeError",
     "evalue": "%d format: a number is required, not str",
     "output_type": "error",
     "traceback": [
      "\u001b[1;31m---------------------------------------------------------------------------\u001b[0m",
      "\u001b[1;31mTypeError\u001b[0m                                 Traceback (most recent call last)",
      "\u001b[1;32m~\\AppData\\Local\\Temp/ipykernel_19372/1491873088.py\u001b[0m in \u001b[0;36m<module>\u001b[1;34m\u001b[0m\n\u001b[0;32m      2\u001b[0m \u001b[0mb\u001b[0m \u001b[1;33m=\u001b[0m \u001b[1;34m'kamal'\u001b[0m\u001b[1;33m\u001b[0m\u001b[1;33m\u001b[0m\u001b[0m\n\u001b[0;32m      3\u001b[0m \u001b[1;33m\u001b[0m\u001b[0m\n\u001b[1;32m----> 4\u001b[1;33m \u001b[0mprint\u001b[0m\u001b[1;33m(\u001b[0m\u001b[1;34m'My age is %d and my curreny is %f'\u001b[0m\u001b[1;33m%\u001b[0m\u001b[1;33m(\u001b[0m\u001b[0mb\u001b[0m\u001b[1;33m,\u001b[0m\u001b[0ma\u001b[0m\u001b[1;33m)\u001b[0m\u001b[1;33m)\u001b[0m\u001b[1;33m\u001b[0m\u001b[1;33m\u001b[0m\u001b[0m\n\u001b[0m",
      "\u001b[1;31mTypeError\u001b[0m: %d format: a number is required, not str"
     ]
    }
   ],
   "source": [
    "a = 25\n",
    "b = 'kamal'\n",
    "\n",
    "print('My age is %d and my curreny is %f'%(b,a))"
   ]
  },
  {
   "cell_type": "markdown",
   "id": "1a67d08a",
   "metadata": {},
   "source": [
    "- fomart technique "
   ]
  },
  {
   "cell_type": "code",
   "execution_count": 87,
   "id": "a5d3aae2",
   "metadata": {},
   "outputs": [
    {
     "name": "stdout",
     "output_type": "stream",
     "text": [
      "My age is 25\n"
     ]
    }
   ],
   "source": [
    "a = 25\n",
    "\n",
    "\n",
    "print(\"My age is {}\".format(a))"
   ]
  },
  {
   "cell_type": "code",
   "execution_count": 90,
   "id": "cbfa94d2",
   "metadata": {},
   "outputs": [
    {
     "name": "stdout",
     "output_type": "stream",
     "text": [
      "My name is kamal and my age is 25\n"
     ]
    }
   ],
   "source": [
    "a = 25\n",
    "b = 'kamal'\n",
    "\n",
    "print('My name is {} and my age is {}'.format(b,a))"
   ]
  },
  {
   "cell_type": "code",
   "execution_count": 88,
   "id": "bffcba74",
   "metadata": {},
   "outputs": [
    {
     "name": "stdout",
     "output_type": "stream",
     "text": [
      "My name is 25 and my age is kamal\n"
     ]
    }
   ],
   "source": [
    "a = 25\n",
    "b = 'kamal'\n",
    "\n",
    "print('My name is {} and my age is {}'.format(a,b))"
   ]
  },
  {
   "cell_type": "markdown",
   "id": "2b758912",
   "metadata": {},
   "source": [
    "## f symbol"
   ]
  },
  {
   "cell_type": "code",
   "execution_count": 91,
   "id": "b1747da5",
   "metadata": {},
   "outputs": [
    {
     "name": "stdout",
     "output_type": "stream",
     "text": [
      "My age is 25\n"
     ]
    }
   ],
   "source": [
    "a = 25\n",
    "\n",
    "print(f'My age is {a}')"
   ]
  },
  {
   "cell_type": "code",
   "execution_count": 92,
   "id": "dbcd4114",
   "metadata": {},
   "outputs": [
    {
     "name": "stdout",
     "output_type": "stream",
     "text": [
      "My name is kamal and my age is 25\n"
     ]
    }
   ],
   "source": [
    "a = 25\n",
    "b = 'kamal'\n",
    "\n",
    "print(f'My name is {b} and my age is {a}')"
   ]
  },
  {
   "cell_type": "code",
   "execution_count": null,
   "id": "59edf341",
   "metadata": {},
   "outputs": [],
   "source": []
  }
 ],
 "metadata": {
  "kernelspec": {
   "display_name": "Python 3 (ipykernel)",
   "language": "python",
   "name": "python3"
  },
  "language_info": {
   "codemirror_mode": {
    "name": "ipython",
    "version": 3
   },
   "file_extension": ".py",
   "mimetype": "text/x-python",
   "name": "python",
   "nbconvert_exporter": "python",
   "pygments_lexer": "ipython3",
   "version": "3.9.12"
  }
 },
 "nbformat": 4,
 "nbformat_minor": 5
}
