{
 "cells": [
  {
   "cell_type": "code",
   "execution_count": 14,
   "id": "55abb6fc",
   "metadata": {},
   "outputs": [],
   "source": [
    "# class = collection of objects \n",
    "# object = Instance of a class "
   ]
  },
  {
   "cell_type": "code",
   "execution_count": 2,
   "id": "b16ec9fa",
   "metadata": {},
   "outputs": [],
   "source": [
    "# syntax \n",
    "\n",
    "\n",
    "# class <classname>():\n",
    "      # logics or functions \n",
    "    \n",
    "    \n",
    "# objects = class()"
   ]
  },
  {
   "cell_type": "code",
   "execution_count": 3,
   "id": "ce83dd5d",
   "metadata": {},
   "outputs": [
    {
     "name": "stdout",
     "output_type": "stream",
     "text": [
      "1\n"
     ]
    }
   ],
   "source": [
    "a = 1\n",
    "print(a)"
   ]
  },
  {
   "cell_type": "code",
   "execution_count": null,
   "id": "dc088af5",
   "metadata": {},
   "outputs": [],
   "source": [
    "def fun(a)"
   ]
  },
  {
   "cell_type": "code",
   "execution_count": 4,
   "id": "9702cb3a",
   "metadata": {},
   "outputs": [
    {
     "name": "stdout",
     "output_type": "stream",
     "text": [
      "1\n",
      "2\n"
     ]
    }
   ],
   "source": [
    "class kamal():\n",
    "    a = 1\n",
    "    b = 2\n",
    "    \n",
    "servent = kamal()\n",
    "print(servent.a)\n",
    "print(servent.b)"
   ]
  },
  {
   "cell_type": "code",
   "execution_count": 5,
   "id": "3f9f6fd7",
   "metadata": {},
   "outputs": [
    {
     "name": "stdout",
     "output_type": "stream",
     "text": [
      "1\n"
     ]
    },
    {
     "ename": "AttributeError",
     "evalue": "'shiva' object has no attribute 'b'",
     "output_type": "error",
     "traceback": [
      "\u001b[1;31m---------------------------------------------------------------------------\u001b[0m",
      "\u001b[1;31mAttributeError\u001b[0m                            Traceback (most recent call last)",
      "\u001b[1;32m~\\AppData\\Local\\Temp/ipykernel_2564/3303618572.py\u001b[0m in \u001b[0;36m<module>\u001b[1;34m\u001b[0m\n\u001b[0;32m      4\u001b[0m \u001b[0mobj\u001b[0m \u001b[1;33m=\u001b[0m \u001b[0mshiva\u001b[0m\u001b[1;33m(\u001b[0m\u001b[1;33m)\u001b[0m\u001b[1;33m\u001b[0m\u001b[1;33m\u001b[0m\u001b[0m\n\u001b[0;32m      5\u001b[0m \u001b[0mprint\u001b[0m\u001b[1;33m(\u001b[0m\u001b[0mobj\u001b[0m\u001b[1;33m.\u001b[0m\u001b[0ma\u001b[0m\u001b[1;33m)\u001b[0m\u001b[1;33m\u001b[0m\u001b[1;33m\u001b[0m\u001b[0m\n\u001b[1;32m----> 6\u001b[1;33m \u001b[0mprint\u001b[0m\u001b[1;33m(\u001b[0m\u001b[0mobj\u001b[0m\u001b[1;33m.\u001b[0m\u001b[0mb\u001b[0m\u001b[1;33m)\u001b[0m\u001b[1;33m\u001b[0m\u001b[1;33m\u001b[0m\u001b[0m\n\u001b[0m",
      "\u001b[1;31mAttributeError\u001b[0m: 'shiva' object has no attribute 'b'"
     ]
    }
   ],
   "source": [
    "class shiva():\n",
    "    a = 1\n",
    "    \n",
    "obj = shiva()\n",
    "print(obj.a)\n",
    "print(obj.b)"
   ]
  },
  {
   "cell_type": "code",
   "execution_count": 6,
   "id": "a508b7aa",
   "metadata": {},
   "outputs": [
    {
     "name": "stdout",
     "output_type": "stream",
     "text": [
      "1\n",
      "2\n"
     ]
    }
   ],
   "source": [
    "class shiva():\n",
    "    a = 1\n",
    "    b = 2\n",
    "obj = shiva()\n",
    "print(shiva.a)\n",
    "print(shiva.b)"
   ]
  },
  {
   "cell_type": "code",
   "execution_count": 11,
   "id": "d3424c00",
   "metadata": {},
   "outputs": [
    {
     "name": "stdout",
     "output_type": "stream",
     "text": [
      "2\n",
      "10\n"
     ]
    }
   ],
   "source": [
    "class kamal():\n",
    "    pass\n",
    "    # a = 2\n",
    "    # b = 10 \n",
    "    \n",
    "    \n",
    "    \n",
    "obj = kamal()\n",
    "obj.a = 2\n",
    "obj.b = 10\n",
    "print(obj.a)\n",
    "print(obj.b)"
   ]
  },
  {
   "cell_type": "code",
   "execution_count": 12,
   "id": "270e8ad7",
   "metadata": {},
   "outputs": [
    {
     "name": "stdout",
     "output_type": "stream",
     "text": [
      "200\n"
     ]
    }
   ],
   "source": [
    "class rectangle():\n",
    "    length = 10\n",
    "    breadth = 20\n",
    "    \n",
    "obj = rectangle()\n",
    "c = obj.length * obj.breadth\n",
    "print(c)"
   ]
  },
  {
   "cell_type": "code",
   "execution_count": 13,
   "id": "8ff300ec",
   "metadata": {},
   "outputs": [
    {
     "name": "stdout",
     "output_type": "stream",
     "text": [
      "200\n"
     ]
    }
   ],
   "source": [
    "class rec():\n",
    "    pass\n",
    "     # length = 10\n",
    "     # breadth = 20\n",
    "obj = rec()\n",
    "obj.length = 10\n",
    "obj.breadth = 20\n",
    "print(obj.length * obj.breadth)\n"
   ]
  },
  {
   "cell_type": "code",
   "execution_count": 1,
   "id": "01a10e37",
   "metadata": {},
   "outputs": [
    {
     "name": "stdout",
     "output_type": "stream",
     "text": [
      "10\n"
     ]
    }
   ],
   "source": [
    "class kamal():\n",
    "    a = 10\n",
    "    \n",
    "obj = kamal()\n",
    "print(obj.a)"
   ]
  },
  {
   "cell_type": "code",
   "execution_count": 2,
   "id": "eee76886",
   "metadata": {},
   "outputs": [
    {
     "name": "stdout",
     "output_type": "stream",
     "text": [
      "10\n"
     ]
    },
    {
     "ename": "TypeError",
     "evalue": "fun() takes 0 positional arguments but 1 was given",
     "output_type": "error",
     "traceback": [
      "\u001b[1;31m---------------------------------------------------------------------------\u001b[0m",
      "\u001b[1;31mTypeError\u001b[0m                                 Traceback (most recent call last)",
      "\u001b[1;32m~\\AppData\\Local\\Temp/ipykernel_14392/1945106465.py\u001b[0m in \u001b[0;36m<module>\u001b[1;34m\u001b[0m\n\u001b[0;32m      6\u001b[0m \u001b[0mobj\u001b[0m \u001b[1;33m=\u001b[0m \u001b[0mkamal\u001b[0m\u001b[1;33m(\u001b[0m\u001b[1;33m)\u001b[0m\u001b[1;33m\u001b[0m\u001b[1;33m\u001b[0m\u001b[0m\n\u001b[0;32m      7\u001b[0m \u001b[0mprint\u001b[0m\u001b[1;33m(\u001b[0m\u001b[0mobj\u001b[0m\u001b[1;33m.\u001b[0m\u001b[0ma\u001b[0m\u001b[1;33m)\u001b[0m\u001b[1;33m\u001b[0m\u001b[1;33m\u001b[0m\u001b[0m\n\u001b[1;32m----> 8\u001b[1;33m \u001b[0mobj\u001b[0m\u001b[1;33m.\u001b[0m\u001b[0mfun\u001b[0m\u001b[1;33m(\u001b[0m\u001b[1;33m)\u001b[0m\u001b[1;33m\u001b[0m\u001b[1;33m\u001b[0m\u001b[0m\n\u001b[0m",
      "\u001b[1;31mTypeError\u001b[0m: fun() takes 0 positional arguments but 1 was given"
     ]
    }
   ],
   "source": [
    "class kamal():\n",
    "    a = 10\n",
    "    def fun():\n",
    "        print(\"Today we are going to production enviroment in my project\")\n",
    "    \n",
    "obj = kamal()\n",
    "print(obj.a)\n",
    "obj.fun()"
   ]
  },
  {
   "cell_type": "code",
   "execution_count": 3,
   "id": "382eb025",
   "metadata": {},
   "outputs": [
    {
     "name": "stdout",
     "output_type": "stream",
     "text": [
      "Today we are going to production enviroment in my project\n"
     ]
    }
   ],
   "source": [
    "def fun():\n",
    "    print(\"Today we are going to production enviroment in my project\")\n",
    "    \n",
    "fun()"
   ]
  },
  {
   "cell_type": "code",
   "execution_count": 6,
   "id": "32410e79",
   "metadata": {},
   "outputs": [
    {
     "name": "stdout",
     "output_type": "stream",
     "text": [
      "10\n",
      "Today we are going to production enviroment in my project\n"
     ]
    }
   ],
   "source": [
    "class kamal():\n",
    "    a = 10\n",
    "    def fun(self):\n",
    "        print(\"Today we are going to production enviroment in my project\")\n",
    "    \n",
    "obj = kamal()\n",
    "print(obj.a)\n",
    "obj.fun()"
   ]
  },
  {
   "cell_type": "code",
   "execution_count": 8,
   "id": "db3393aa",
   "metadata": {},
   "outputs": [
    {
     "data": {
      "text/plain": [
       "200"
      ]
     },
     "execution_count": 8,
     "metadata": {},
     "output_type": "execute_result"
    }
   ],
   "source": [
    "class rectangle():\n",
    "    def fun(self , length , breadth):\n",
    "        return length * breadth\n",
    "    \n",
    "    \n",
    "obj = rectangle()\n",
    "obj.fun(10 , 20)"
   ]
  },
  {
   "cell_type": "code",
   "execution_count": 9,
   "id": "803b8917",
   "metadata": {},
   "outputs": [
    {
     "data": {
      "text/plain": [
       "200"
      ]
     },
     "execution_count": 9,
     "metadata": {},
     "output_type": "execute_result"
    }
   ],
   "source": [
    "class rectangle():\n",
    "    def fun(self):  # self is also an object only \n",
    "        self.length = 10\n",
    "        self.breadth = 20 \n",
    "        return self.length * self.breadth\n",
    "        \n",
    "    \n",
    "    \n",
    "obj = rectangle()\n",
    "obj.fun()"
   ]
  },
  {
   "cell_type": "code",
   "execution_count": 12,
   "id": "a7f194a5",
   "metadata": {},
   "outputs": [
    {
     "data": {
      "text/plain": [
       "40"
      ]
     },
     "execution_count": 12,
     "metadata": {},
     "output_type": "execute_result"
    }
   ],
   "source": [
    "class kamal():\n",
    "    def square(self,a,b):\n",
    "        return a * b\n",
    "        \n",
    "        \n",
    "        \n",
    "obj = kamal()\n",
    "\n",
    "obj.square(10,4)"
   ]
  },
  {
   "cell_type": "code",
   "execution_count": 13,
   "id": "e14ff37b",
   "metadata": {},
   "outputs": [
    {
     "data": {
      "text/plain": [
       "40"
      ]
     },
     "execution_count": 13,
     "metadata": {},
     "output_type": "execute_result"
    }
   ],
   "source": [
    "class kamal():\n",
    "    #a = 10, b = 4\n",
    "    def square(self):\n",
    "        return self.a * self.b\n",
    "        \n",
    "        \n",
    "        \n",
    "obj = kamal()\n",
    "obj.a = 10\n",
    "obj.b = 4\n",
    "obj.square()"
   ]
  },
  {
   "cell_type": "markdown",
   "id": "1b692256",
   "metadata": {},
   "source": [
    "### constructors "
   ]
  },
  {
   "cell_type": "markdown",
   "id": "9d29ab96",
   "metadata": {},
   "source": [
    "## constructors are two types \n",
    "\n",
    "- Implicit constructor  = when we are creating the class it will called \n",
    "- Explicit constructor = we need to call using object name "
   ]
  },
  {
   "cell_type": "code",
   "execution_count": 15,
   "id": "51e9c317",
   "metadata": {},
   "outputs": [
    {
     "name": "stdout",
     "output_type": "stream",
     "text": [
      "I am an implicit constructor\n"
     ]
    }
   ],
   "source": [
    "# implicit constructor and constructor name is not __init__ constructor name and class name are same \n",
    "\n",
    "class kamal():\n",
    "    def __init__(self):\n",
    "        print(\"I am an implicit constructor\")\n",
    "        \n",
    "obj = kamal()"
   ]
  },
  {
   "cell_type": "code",
   "execution_count": 19,
   "id": "04d6f98e",
   "metadata": {},
   "outputs": [
    {
     "name": "stdout",
     "output_type": "stream",
     "text": [
      "shiva\n"
     ]
    }
   ],
   "source": [
    "## explicit constructor \n",
    "\n",
    "class kamal():\n",
    "    def __init__(self , name):\n",
    "        print(name)\n",
    "        \n",
    "        \n",
    "        \n",
    "obj = kamal('shiva')"
   ]
  },
  {
   "cell_type": "code",
   "execution_count": 20,
   "id": "8e4f8e52",
   "metadata": {},
   "outputs": [
    {
     "name": "stdout",
     "output_type": "stream",
     "text": [
      "shiva\n",
      "45\n"
     ]
    }
   ],
   "source": [
    "class kamal():\n",
    "    def __init__(self , name , age):\n",
    "        print(name)\n",
    "        print(age)\n",
    "        \n",
    "        \n",
    "        \n",
    "obj = kamal('shiva' , 45)"
   ]
  },
  {
   "cell_type": "code",
   "execution_count": 23,
   "id": "7fdd1174",
   "metadata": {},
   "outputs": [
    {
     "name": "stdout",
     "output_type": "stream",
     "text": [
      "I am working\n"
     ]
    }
   ],
   "source": [
    "class kamal():\n",
    "    def __init__(self):\n",
    "        print(\"I am working\")\n",
    "        \n",
    "obj = kamal()"
   ]
  },
  {
   "cell_type": "code",
   "execution_count": 26,
   "id": "e7fdace8",
   "metadata": {},
   "outputs": [
    {
     "data": {
      "text/plain": [
       "200"
      ]
     },
     "execution_count": 26,
     "metadata": {},
     "output_type": "execute_result"
    }
   ],
   "source": [
    "class kamal():\n",
    "    # length = 10 , breadth = 20\n",
    "    def __init__(self):\n",
    "        self.length = 10\n",
    "        self.breadth = 20\n",
    "        #print(self.length * self.breadth)\n",
    "    def calling(self):\n",
    "        return self.length * self.breadth\n",
    "        \n",
    "obj = kamal()\n",
    "obj.calling()"
   ]
  },
  {
   "cell_type": "code",
   "execution_count": 31,
   "id": "73f49f4b",
   "metadata": {},
   "outputs": [
    {
     "data": {
      "text/plain": [
       "'the values are = 20000'"
      ]
     },
     "execution_count": 31,
     "metadata": {},
     "output_type": "execute_result"
    }
   ],
   "source": [
    "class rectangle():\n",
    "    # length = 100 , breadth = 200\n",
    "    def __init__(self , a , b):\n",
    "        self.length = a\n",
    "        self.breadth = b\n",
    "    def area_of_rectangle(self):\n",
    "        return 'the values are = '+ str(self.length * self.breadth)\n",
    "        \n",
    "        \n",
    "        \n",
    "        \n",
    "        \n",
    "obj = rectangle(100,200)\n",
    "obj.area_of_rectangle()"
   ]
  },
  {
   "cell_type": "code",
   "execution_count": 32,
   "id": "ab2a4a58",
   "metadata": {},
   "outputs": [],
   "source": [
    "# Inheritance \n",
    "# Polymorphsam\n",
    "# Abstraction \n",
    "# Excapsulation "
   ]
  },
  {
   "cell_type": "code",
   "execution_count": 33,
   "id": "e778ef62",
   "metadata": {},
   "outputs": [],
   "source": [
    "import numpy as np "
   ]
  },
  {
   "cell_type": "code",
   "execution_count": 34,
   "id": "6c97f0db",
   "metadata": {},
   "outputs": [
    {
     "data": {
      "text/plain": [
       "array([1, 2, 3])"
      ]
     },
     "execution_count": 34,
     "metadata": {},
     "output_type": "execute_result"
    }
   ],
   "source": [
    "a = np.array([1,2,3])\n",
    "a"
   ]
  },
  {
   "cell_type": "code",
   "execution_count": null,
   "id": "47104b30",
   "metadata": {},
   "outputs": [],
   "source": []
  }
 ],
 "metadata": {
  "kernelspec": {
   "display_name": "Python 3 (ipykernel)",
   "language": "python",
   "name": "python3"
  },
  "language_info": {
   "codemirror_mode": {
    "name": "ipython",
    "version": 3
   },
   "file_extension": ".py",
   "mimetype": "text/x-python",
   "name": "python",
   "nbconvert_exporter": "python",
   "pygments_lexer": "ipython3",
   "version": "3.8.12"
  }
 },
 "nbformat": 4,
 "nbformat_minor": 5
}
